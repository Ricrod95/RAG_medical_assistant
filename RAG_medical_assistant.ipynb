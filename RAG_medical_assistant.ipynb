{
  "cells": [
    {
      "cell_type": "markdown",
      "metadata": {
        "id": "3CNz35ia6Bz3"
      },
      "source": [
        "## Problem Statement"
      ]
    },
    {
      "cell_type": "markdown",
      "metadata": {
        "id": "CkRbhMJH6Bz3"
      },
      "source": [
        "### Business Context"
      ]
    },
    {
      "cell_type": "markdown",
      "metadata": {
        "id": "3PBm5xaj6Bz3"
      },
      "source": [
        "The healthcare industry is rapidly evolving, with professionals facing increasing challenges in managing vast volumes of medical data while delivering accurate and timely diagnoses. The need for quick access to comprehensive, reliable, and up-to-date medical knowledge is critical for improving patient outcomes and ensuring informed decision-making in a fast-paced environment.\n",
        "\n",
        "Healthcare professionals often encounter information overload, struggling to sift through extensive research and data to create accurate diagnoses and treatment plans. This challenge is amplified by the need for efficiency, particularly in emergencies, where time-sensitive decisions are vital. Furthermore, access to trusted, current medical information from renowned manuals and research papers is essential for maintaining high standards of care.\n",
        "\n",
        "To address these challenges, healthcare centers can focus on integrating systems that streamline access to medical knowledge, provide tools to support quick decision-making, and enhance efficiency. Leveraging centralized knowledge platforms and ensuring healthcare providers have continuous access to reliable resources can significantly improve patient care and operational effectiveness."
      ]
    },
    {
      "cell_type": "markdown",
      "metadata": {
        "id": "1xDPsqvO6Bz5"
      },
      "source": [
        "**Common Questions to Answer**\n",
        "\n",
        "**1. Diagnostic Assistance**: \"What are the common symptoms and treatments for pulmonary embolism?\"\n",
        "\n",
        "**2. Drug Information**: \"Can you provide the trade names of medications used for treating hypertension?\"\n",
        "\n",
        "**3. Treatment Plans**: \"What are the first-line options and alternatives for managing rheumatoid arthritis?\"\n",
        "\n",
        "**4. Specialty Knowledge**: \"What are the diagnostic steps for suspected endocrine disorders?\"\n",
        "\n",
        "**5. Critical Care Protocols**: \"What is the protocol for managing sepsis in a critical care unit?\""
      ]
    },
    {
      "cell_type": "markdown",
      "metadata": {
        "id": "CARPKFwm6Bz4"
      },
      "source": [
        "### Objective"
      ]
    },
    {
      "cell_type": "markdown",
      "metadata": {
        "id": "dOElOEXq6Bz4"
      },
      "source": [
        "The core objective was to design, build, and validate a secure, context-aware AI Medical Assistant utilizing a Retrieval-Augmented Generation (RAG) architecture.\n",
        "\n",
        "Key Focus Areas:\n",
        "Grounded Response Generation: Ensure the Large Language Model (LLM) only generates responses based on verified, external knowledge sources (Merck Manuals) to eliminate hallucinations and ensure clinical accuracy.\n",
        "\n",
        "Contextual Precision: Implement efficient vectorization and retrieval mechanisms to pull the most relevant protocols and diagnostic information for a given complex patient query.\n",
        "\n",
        "End-to-End System Deployment: Demonstrate proficiency in the full NLP lifecycle, from text preprocessing and embedding to orchestrating the RAG pipeline using industry-standard libraries like LangChain and Llama-cpp.\n",
        "\n",
        "The successful outcome is a robust prototype capable of providing evidence-based, low-latency, and highly contextual answers to complex medical queries, thereby streamlining clinical efficiency and improving patient protocol adherence."
      ]
    },
    {
      "cell_type": "markdown",
      "metadata": {
        "id": "by9EvAnkSpZf"
      },
      "source": [
        "### Data Description"
      ]
    },
    {
      "cell_type": "markdown",
      "metadata": {
        "id": "Jw5LievCSru2"
      },
      "source": [
        "The **Merck Manuals** are medical references published by the American pharmaceutical company Merck & Co., that cover a wide range of medical topics, including disorders, tests, diagnoses, and drugs. The manuals have been published since 1899, when Merck & Co. was still a subsidiary of the German company Merck.\n",
        "\n",
        "The manual is provided as a PDF with over 4,000 pages divided into 23 sections."
      ]
    },
    {
      "cell_type": "markdown",
      "metadata": {
        "id": "lnwETBOE6Bz5"
      },
      "source": [
        "## Installing and Importing Necessary Libraries and Dependencies"
      ]
    },
    {
      "cell_type": "code",
      "execution_count": null,
      "metadata": {
        "colab": {
          "base_uri": "https://localhost:8080/"
        },
        "id": "q4GgLhZhUM4V",
        "outputId": "f79ceec7-bff3-4be7-bfd6-55476a725aa2"
      },
      "outputs": [
        {
          "name": "stdout",
          "output_type": "stream",
          "text": [
            "\u001b[?25l     \u001b[90m━━━━━━━━━━━━━━━━━━━━━━━━━━━━━━━━━━━━━━━━\u001b[0m \u001b[32m0.0/1.8 MB\u001b[0m \u001b[31m?\u001b[0m eta \u001b[36m-:--:--\u001b[0m\r\u001b[2K     \u001b[90m━━━━━━━━━━━━━━━━━━━━━━━━━━━━━━━━━━━━━━━━\u001b[0m \u001b[32m1.8/1.8 MB\u001b[0m \u001b[31m180.2 MB/s\u001b[0m eta \u001b[36m0:00:00\u001b[0m\n",
            "\u001b[?25h  Installing build dependencies ... \u001b[?25l\u001b[?25hdone\n",
            "  Getting requirements to build wheel ... \u001b[?25l\u001b[?25hdone\n",
            "  Preparing metadata (pyproject.toml) ... \u001b[?25l\u001b[?25hdone\n",
            "\u001b[2K     \u001b[90m━━━━━━━━━━━━━━━━━━━━━━━━━━━━━━━━━━━━━━━\u001b[0m \u001b[32m62.1/62.1 kB\u001b[0m \u001b[31m150.6 MB/s\u001b[0m eta \u001b[36m0:00:00\u001b[0m\n",
            "\u001b[2K   \u001b[90m━━━━━━━━━━━━━━━━━━━━━━━━━━━━━━━━━━━━━━━━\u001b[0m \u001b[32m45.5/45.5 kB\u001b[0m \u001b[31m174.8 MB/s\u001b[0m eta \u001b[36m0:00:00\u001b[0m\n",
            "\u001b[2K   \u001b[90m━━━━━━━━━━━━━━━━━━━━━━━━━━━━━━━━━━━━━━━━\u001b[0m \u001b[32m16.9/16.9 MB\u001b[0m \u001b[31m241.7 MB/s\u001b[0m eta \u001b[36m0:00:00\u001b[0m\n",
            "\u001b[2K   \u001b[90m━━━━━━━━━━━━━━━━━━━━━━━━━━━━━━━━━━━━━━━━\u001b[0m \u001b[32m43.9/43.9 kB\u001b[0m \u001b[31m188.6 MB/s\u001b[0m eta \u001b[36m0:00:00\u001b[0m\n",
            "\u001b[?25h  Building wheel for llama-cpp-python (pyproject.toml) ... \u001b[?25l\u001b[?25hdone\n",
            "\u001b[31mERROR: pip's dependency resolver does not currently take into account all the packages that are installed. This behaviour is the source of the following dependency conflicts.\n",
            "langchain-community 0.0.13 requires numpy<2,>=1, but you have numpy 2.3.2 which is incompatible.\n",
            "langchain 0.1.1 requires numpy<2,>=1, but you have numpy 2.3.2 which is incompatible.\n",
            "google-colab 1.0.0 requires pandas==2.2.2, but you have pandas 1.5.3 which is incompatible.\n",
            "xarray 2025.7.1 requires packaging>=24.1, but you have packaging 23.2 which is incompatible.\n",
            "xarray 2025.7.1 requires pandas>=2.2, but you have pandas 1.5.3 which is incompatible.\n",
            "datasets 4.0.0 requires huggingface-hub>=0.24.0, but you have huggingface-hub 0.23.2 which is incompatible.\n",
            "arviz 0.22.0 requires pandas>=2.1.0, but you have pandas 1.5.3 which is incompatible.\n",
            "opencv-contrib-python 4.12.0.88 requires numpy<2.3.0,>=2; python_version >= \"3.9\", but you have numpy 2.3.2 which is incompatible.\n",
            "dask-cudf-cu12 25.6.0 requires pandas<2.2.4dev0,>=2.0, but you have pandas 1.5.3 which is incompatible.\n",
            "numba 0.60.0 requires numpy<2.1,>=1.22, but you have numpy 2.3.2 which is incompatible.\n",
            "plotnine 0.14.5 requires pandas>=2.2.0, but you have pandas 1.5.3 which is incompatible.\n",
            "mizani 0.13.5 requires pandas>=2.2.0, but you have pandas 1.5.3 which is incompatible.\n",
            "opencv-python-headless 4.12.0.88 requires numpy<2.3.0,>=2; python_version >= \"3.9\", but you have numpy 2.3.2 which is incompatible.\n",
            "opencv-python 4.12.0.88 requires numpy<2.3.0,>=2; python_version >= \"3.9\", but you have numpy 2.3.2 which is incompatible.\n",
            "cudf-cu12 25.6.0 requires pandas<2.2.4dev0,>=2.0, but you have pandas 1.5.3 which is incompatible.\n",
            "geopandas 1.1.1 requires pandas>=2.0.0, but you have pandas 1.5.3 which is incompatible.\n",
            "peft 0.17.0 requires huggingface_hub>=0.25.0, but you have huggingface-hub 0.23.2 which is incompatible.\n",
            "gradio 5.41.0 requires huggingface-hub<1.0,>=0.33.5, but you have huggingface-hub 0.23.2 which is incompatible.\n",
            "tensorflow 2.19.0 requires numpy<2.2.0,>=1.26.0, but you have numpy 2.3.2 which is incompatible.\n",
            "diffusers 0.34.0 requires huggingface-hub>=0.27.0, but you have huggingface-hub 0.23.2 which is incompatible.\n",
            "cupy-cuda12x 13.3.0 requires numpy<2.3,>=1.22, but you have numpy 2.3.2 which is incompatible.\n",
            "db-dtypes 1.4.3 requires packaging>=24.2.0, but you have packaging 23.2 which is incompatible.\u001b[0m\u001b[31m\n",
            "\u001b[0m"
          ]
        }
      ],
      "source": [
        "# Installation for GPU llama-cpp-python\n",
        "!CMAKE_ARGS=\"-DLLAMA_CUBLAS=on\" FORCE_CMAKE=1 pip install llama-cpp-python==0.1.85 --force-reinstall --no-cache-dir -q"
      ]
    },
    {
      "cell_type": "code",
      "execution_count": null,
      "metadata": {
        "colab": {
          "base_uri": "https://localhost:8080/"
        },
        "id": "0VOckDVkWGei",
        "outputId": "966c3a13-ab61-4f53-8439-55d6909e809b"
      },
      "outputs": [
        {
          "name": "stdout",
          "output_type": "stream",
          "text": [
            "\u001b[31mERROR: pip's dependency resolver does not currently take into account all the packages that are installed. This behaviour is the source of the following dependency conflicts.\n",
            "google-colab 1.0.0 requires pandas==2.2.2, but you have pandas 1.5.3 which is incompatible.\n",
            "xarray 2025.7.1 requires numpy>=1.26, but you have numpy 1.25.2 which is incompatible.\n",
            "xarray 2025.7.1 requires packaging>=24.1, but you have packaging 23.2 which is incompatible.\n",
            "xarray 2025.7.1 requires pandas>=2.2, but you have pandas 1.5.3 which is incompatible.\n",
            "datasets 4.0.0 requires huggingface-hub>=0.24.0, but you have huggingface-hub 0.23.2 which is incompatible.\n",
            "arviz 0.22.0 requires numpy>=1.26.0, but you have numpy 1.25.2 which is incompatible.\n",
            "arviz 0.22.0 requires pandas>=2.1.0, but you have pandas 1.5.3 which is incompatible.\n",
            "opencv-contrib-python 4.12.0.88 requires numpy<2.3.0,>=2; python_version >= \"3.9\", but you have numpy 1.25.2 which is incompatible.\n",
            "dask-cudf-cu12 25.6.0 requires pandas<2.2.4dev0,>=2.0, but you have pandas 1.5.3 which is incompatible.\n",
            "plotnine 0.14.5 requires pandas>=2.2.0, but you have pandas 1.5.3 which is incompatible.\n",
            "mizani 0.13.5 requires pandas>=2.2.0, but you have pandas 1.5.3 which is incompatible.\n",
            "blosc2 3.6.1 requires numpy>=1.26, but you have numpy 1.25.2 which is incompatible.\n",
            "opencv-python-headless 4.12.0.88 requires numpy<2.3.0,>=2; python_version >= \"3.9\", but you have numpy 1.25.2 which is incompatible.\n",
            "opencv-python 4.12.0.88 requires numpy<2.3.0,>=2; python_version >= \"3.9\", but you have numpy 1.25.2 which is incompatible.\n",
            "cudf-cu12 25.6.0 requires pandas<2.2.4dev0,>=2.0, but you have pandas 1.5.3 which is incompatible.\n",
            "geopandas 1.1.1 requires pandas>=2.0.0, but you have pandas 1.5.3 which is incompatible.\n",
            "thinc 8.3.6 requires numpy<3.0.0,>=2.0.0, but you have numpy 1.25.2 which is incompatible.\n",
            "peft 0.17.0 requires huggingface_hub>=0.25.0, but you have huggingface-hub 0.23.2 which is incompatible.\n",
            "gradio 5.41.0 requires huggingface-hub<1.0,>=0.33.5, but you have huggingface-hub 0.23.2 which is incompatible.\n",
            "tensorflow 2.19.0 requires numpy<2.2.0,>=1.26.0, but you have numpy 1.25.2 which is incompatible.\n",
            "diffusers 0.34.0 requires huggingface-hub>=0.27.0, but you have huggingface-hub 0.23.2 which is incompatible.\n",
            "db-dtypes 1.4.3 requires packaging>=24.2.0, but you have packaging 23.2 which is incompatible.\u001b[0m\u001b[31m\n",
            "\u001b[0m"
          ]
        }
      ],
      "source": [
        "# For installing the libraries & downloading models from HF Hub\n",
        "!pip install huggingface_hub==0.23.2 pandas==1.5.3 tiktoken==0.6.0 pymupdf==1.25.1 pypdf langchain==0.1.1 langchain-community==0.0.13 chromadb==0.4.22 sentence-transformers==2.3.1 numpy==1.25.2 -q"
      ]
    },
    {
      "cell_type": "code",
      "execution_count": null,
      "metadata": {
        "id": "RTY9GN4oWK3g"
      },
      "outputs": [],
      "source": [
        "#Libraries for processing dataframes,text\n",
        "import json,os\n",
        "import tiktoken\n",
        "import pandas as pd\n",
        "\n",
        "#Libraries for Loading Data, Chunking, Embedding, and Vector Databases\n",
        "from langchain.text_splitter import RecursiveCharacterTextSplitter\n",
        "from langchain_community.document_loaders import PyPDFLoader\n",
        "from langchain_community.embeddings.sentence_transformer import SentenceTransformerEmbeddings\n",
        "from langchain_community.vectorstores import Chroma\n",
        "\n",
        "#Libraries for downloading and loading the llm\n",
        "from huggingface_hub import hf_hub_download\n",
        "from llama_cpp import Llama"
      ]
    },
    {
      "cell_type": "markdown",
      "metadata": {
        "id": "TtZWqj0wFTS1"
      },
      "source": [
        "## Question Answering using LLM"
      ]
    },
    {
      "cell_type": "markdown",
      "metadata": {
        "id": "Uq1lhM4WFTS2"
      },
      "source": [
        "#### Downloading and Loading the model"
      ]
    },
    {
      "cell_type": "code",
      "execution_count": null,
      "metadata": {
        "colab": {
          "base_uri": "https://localhost:8080/",
          "height": 153,
          "referenced_widgets": [
            "113474ef20c6403faa31f5b12cf42858",
            "337d8d593c624663a11abe06ed17c7be",
            "9f1aabcbcf82474c9cf2b17c0d145d65",
            "7a35f9ed7f5947ec98395b0355f4704d",
            "f295c354a0564f8bb434f3dc0fb9b4c1",
            "ce988df05e7341d9a49f32d0ed12d0d8",
            "22cd7335a5704d4189428753f13d0a6a",
            "c0a9e2df31c14cfd9a5df016c64228bf",
            "e3761241702040a09f8a171a24017e53",
            "b437627fa7a044428aef590460dea94b",
            "63c7706faa3f4cbc9801c932b93c5af3"
          ]
        },
        "id": "s-QF4guWkGAH",
        "outputId": "f73badc0-f01e-46df-9ed3-da652b06a6bf"
      },
      "outputs": [
        {
          "name": "stderr",
          "output_type": "stream",
          "text": [
            "/usr/local/lib/python3.11/dist-packages/huggingface_hub/utils/_token.py:89: UserWarning: \n",
            "The secret `HF_TOKEN` does not exist in your Colab secrets.\n",
            "To authenticate with the Hugging Face Hub, create a token in your settings tab (https://huggingface.co/settings/tokens), set it as secret in your Google Colab and restart your session.\n",
            "You will be able to reuse this secret in all of your notebooks.\n",
            "Please note that authentication is recommended but still optional to access public models or datasets.\n",
            "  warnings.warn(\n"
          ]
        },
        {
          "data": {
            "application/vnd.jupyter.widget-view+json": {
              "model_id": "113474ef20c6403faa31f5b12cf42858",
              "version_major": 2,
              "version_minor": 0
            },
            "text/plain": [
              "mistral-7b-instruct-v0.2.Q5_K_S.gguf:   0%|          | 0.00/5.00G [00:00<?, ?B/s]"
            ]
          },
          "metadata": {},
          "output_type": "display_data"
        }
      ],
      "source": [
        "model_name_or_path = \"TheBloke/Mistral-7B-Instruct-v0.2-GGUF\"\n",
        "model_basename = \"mistral-7b-instruct-v0.2.Q5_K_S.gguf\"\n",
        "model_path = hf_hub_download(\n",
        "    repo_id=model_name_or_path,\n",
        "    filename=model_basename\n",
        "    )"
      ]
    },
    {
      "cell_type": "code",
      "execution_count": null,
      "metadata": {
        "colab": {
          "base_uri": "https://localhost:8080/"
        },
        "id": "ygUY7WkkkK_n",
        "outputId": "c52d5d54-114d-40eb-801b-c8e4f1c36246"
      },
      "outputs": [
        {
          "name": "stderr",
          "output_type": "stream",
          "text": [
            "AVX = 1 | AVX2 = 1 | AVX512 = 0 | AVX512_VBMI = 0 | AVX512_VNNI = 0 | FMA = 1 | NEON = 0 | ARM_FMA = 0 | F16C = 1 | FP16_VA = 0 | WASM_SIMD = 0 | BLAS = 1 | SSE3 = 1 | SSSE3 = 1 | VSX = 0 | \n"
          ]
        }
      ],
      "source": [
        "lcpp_llm = Llama(\n",
        "    model_path=model_path,\n",
        "    n_threads=2,\n",
        "    n_batch=512,\n",
        "    n_gpu_layers=38,\n",
        "    n_ctx=2048\n",
        ")"
      ]
    },
    {
      "cell_type": "markdown",
      "metadata": {
        "id": "EzzkvIXvFTS4"
      },
      "source": [
        "#### Response"
      ]
    },
    {
      "cell_type": "code",
      "execution_count": null,
      "metadata": {
        "id": "hG_IaZj0QLw4"
      },
      "outputs": [],
      "source": [
        "def model_response(query,max_tokens=128,temperature=0,top_p=0.95,top_k=50):\n",
        "    model_output = lcpp_llm(\n",
        "      prompt=query,\n",
        "      max_tokens=max_tokens,\n",
        "      temperature=temperature,\n",
        "      top_p=top_p,\n",
        "      top_k=top_k\n",
        "    )\n",
        "\n",
        "    return model_output['choices'][0]['text']"
      ]
    },
    {
      "cell_type": "markdown",
      "metadata": {
        "id": "K8YgK91SFjVY"
      },
      "source": [
        "### Query 1: What is the protocol for managing sepsis in a critical care unit?"
      ]
    },
    {
      "cell_type": "code",
      "execution_count": null,
      "metadata": {
        "colab": {
          "base_uri": "https://localhost:8080/"
        },
        "id": "-JLIVmpPQH0f",
        "outputId": "194cb1cd-0827-43c5-e2e1-468e089fd2b4"
      },
      "outputs": [
        {
          "name": "stdout",
          "output_type": "stream",
          "text": [
            "\n",
            "\n",
            "Sepsis is a life-threatening condition that can arise from an infection, and it requires prompt recognition and aggressive management in a critical care unit. The following are general steps for managing sepsis in a critical care setting:\n",
            "\n",
            "1. Early recognition: Recognize the signs and symptoms of sepsis early and initiate treatment as soon as possible. Sepsis can present with various clinical features, including fever or hypothermia, tachycardia or bradycardia, altered mental status, respiratory distress, and lactic acidosis.\n",
            "2. Resusc\n"
          ]
        }
      ],
      "source": [
        "user_prompt = \"What is the protocol for managing sepsis in a critical care unit?\"\n",
        "response = model_response(user_prompt)\n",
        "print(response)"
      ]
    },
    {
      "cell_type": "markdown",
      "metadata": {
        "id": "J6yxICeVFjVc"
      },
      "source": [
        "### Query 2: What are the common symptoms for appendicitis, and can it be cured via medicine? If not, what surgical procedure should be followed to treat it?"
      ]
    },
    {
      "cell_type": "code",
      "execution_count": null,
      "metadata": {
        "colab": {
          "base_uri": "https://localhost:8080/"
        },
        "id": "BdiHRgEqQIP9",
        "outputId": "df512621-0ca9-4fb5-c8aa-d193347da6cf"
      },
      "outputs": [
        {
          "name": "stderr",
          "output_type": "stream",
          "text": [
            "Llama.generate: prefix-match hit\n"
          ]
        },
        {
          "name": "stdout",
          "output_type": "stream",
          "text": [
            "\n",
            "\n",
            "Appendicitis is a medical condition characterized by inflammation of the appendix, a small pouch that extends from the large intestine. The following are common symptoms of appendicitis:\n",
            "\n",
            "1. Abdominal pain: The pain typically starts around the navel area and then shifts to the lower right side of the abdomen. It may be constant or come and go, and it can range from mild to severe.\n",
            "2. Loss of appetite: People with appendicitis often lose their appetite due to abdominal pain and discomfort.\n",
            "3. Nausea and vomiting:\n"
          ]
        }
      ],
      "source": [
        "user_prompt = \"What are the common symptoms for appendicitis, and can it be cured via medicine? If not, what surgical procedure should be followed to treat it?\"\n",
        "response = model_response(user_prompt)\n",
        "print(response)"
      ]
    },
    {
      "cell_type": "markdown",
      "metadata": {
        "id": "oflaoOGiFjVd"
      },
      "source": [
        "### Query 3: What are the effective treatments or solutions for addressing sudden patchy hair loss, commonly seen as localized bald spots on the scalp, and what could be the possible causes behind it?"
      ]
    },
    {
      "cell_type": "code",
      "execution_count": null,
      "metadata": {
        "colab": {
          "base_uri": "https://localhost:8080/"
        },
        "id": "N-mx9yboQIt-",
        "outputId": "12d62895-2f96-4381-b347-1f867bc6de6e"
      },
      "outputs": [
        {
          "name": "stderr",
          "output_type": "stream",
          "text": [
            "Llama.generate: prefix-match hit\n"
          ]
        },
        {
          "name": "stdout",
          "output_type": "stream",
          "text": [
            "\n",
            "\n",
            "Sudden patchy hair loss, also known as alopecia areata, is a common autoimmune disorder that affects the hair follicles. It can result in round or oval bald patches on the scalp, but it can also occur on other parts of the body, such as the beard area or eyebrows.\n",
            "\n",
            "The exact cause of alopecia areata is not known, but it's believed to be related to a combination of genetic and environmental factors. Some possible triggers include stress, illness, trauma, and certain medications.\n",
            "\n",
            "There is no cure for alopec\n"
          ]
        }
      ],
      "source": [
        "user_prompt = \"What are the effective treatments or solutions for addressing sudden patchy hair loss, commonly seen as localized bald spots on the scalp, and what could be the possible causes behind it?\"\n",
        "response = model_response(user_prompt)\n",
        "print(response)"
      ]
    },
    {
      "cell_type": "markdown",
      "metadata": {
        "id": "WUUqY4FbFjVe"
      },
      "source": [
        "### Query 4:  What treatments are recommended for a person who has sustained a physical injury to brain tissue, resulting in temporary or permanent impairment of brain function?"
      ]
    },
    {
      "cell_type": "code",
      "execution_count": null,
      "metadata": {
        "colab": {
          "base_uri": "https://localhost:8080/"
        },
        "id": "TEsVMaKaQJzh",
        "outputId": "0ee26fd6-2577-48cf-94be-7e261ecd216c"
      },
      "outputs": [
        {
          "name": "stderr",
          "output_type": "stream",
          "text": [
            "Llama.generate: prefix-match hit\n"
          ]
        },
        {
          "name": "stdout",
          "output_type": "stream",
          "text": [
            "\n",
            "\n",
            "A person who has sustained a physical injury to the brain, also known as a traumatic brain injury (TBI), may require various treatments depending on the severity and location of the injury. Here are some common treatments recommended for individuals with TBIs:\n",
            "\n",
            "1. Emergency care: In case of a severe TBI, emergency care is essential to prevent further damage or complications. This may include surgery to remove hematomas or other clots, intubation to help the person breathe, and administration of medications to manage swelling or prevent seizures.\n",
            "2. Rehabilitation: Rehabil\n"
          ]
        }
      ],
      "source": [
        "user_prompt = \"What treatments are recommended for a person who has sustained a physical injury to brain tissue, resulting in temporary or permanent impairment of brain function?\"\n",
        "response = model_response(user_prompt)\n",
        "print(response)"
      ]
    },
    {
      "cell_type": "markdown",
      "metadata": {
        "id": "5laPFTHrFjVf"
      },
      "source": [
        "### Query 5: What are the necessary precautions and treatment steps for a person who has fractured their leg during a hiking trip, and what should be considered for their care and recovery?"
      ]
    },
    {
      "cell_type": "code",
      "execution_count": null,
      "metadata": {
        "colab": {
          "base_uri": "https://localhost:8080/"
        },
        "id": "VfrlmrP5QKJz",
        "outputId": "26601486-7a1b-47ae-fb17-18def59eb90f"
      },
      "outputs": [
        {
          "name": "stderr",
          "output_type": "stream",
          "text": [
            "Llama.generate: prefix-match hit\n"
          ]
        },
        {
          "name": "stdout",
          "output_type": "stream",
          "text": [
            "\n",
            "\n",
            "A fractured leg is a serious injury that requires prompt medical attention. Here are some necessary precautions and treatment steps for a person who has sustained a leg fracture while hiking:\n",
            "\n",
            "1. Assess the situation: If you or someone in your group has sustained a leg fracture, assess the situation to determine the severity of the injury. Check for signs of shock, such as pale skin, rapid heartbeat, and shallow breathing. If there are any signs of shock, try to keep the person warm and calm while waiting for medical help.\n",
            "2. Immobilize the leg: Use a spl\n"
          ]
        }
      ],
      "source": [
        "user_prompt = \"What are the necessary precautions and treatment steps for a person who has fractured their leg during a hiking trip, and what should be considered for their care and recovery?\"\n",
        "response = model_response(user_prompt)\n",
        "print(response)"
      ]
    },
    {
      "cell_type": "markdown",
      "metadata": {
        "id": "b8UxYqWcCJHg"
      },
      "source": [
        "###Observations\n",
        "- The model demonstrates a clear understanding of the prompts and maintains relevant context throughout its responses.\n",
        "- However, the answers tend to be overly generic and lack the depth or specificity necessary for practical use by medical professionals.\n",
        "- Queries on more common or well-known medical topics often yield simpler, more generalized responses, limiting clinical utility.\n",
        "- Across all tested prompts, the output length is consistently insufficient, suggesting that the current max_tokens setting is too low to allow comprehensive answers."
      ]
    },
    {
      "cell_type": "markdown",
      "metadata": {
        "id": "g5myZ5dOOefc"
      },
      "source": [
        "## Question Answering using LLM with Prompt Engineering"
      ]
    },
    {
      "cell_type": "code",
      "execution_count": null,
      "metadata": {
        "id": "K_54wjckHKfO"
      },
      "outputs": [],
      "source": [
        "def model_response(query, system_message, max_tokens,temperature,top_p,top_k):\n",
        "\n",
        "    prompt = f\"{user_prompt}\\n{system_message}\"\n",
        "\n",
        "    model_output = lcpp_llm(\n",
        "      prompt=query,\n",
        "      max_tokens=max_tokens,\n",
        "      temperature=temperature,\n",
        "      top_p=top_p,\n",
        "      top_k=top_k\n",
        "    )\n",
        "\n",
        "    return model_output['choices'][0]['text']"
      ]
    },
    {
      "cell_type": "markdown",
      "metadata": {
        "id": "YarnrVjaHS3U"
      },
      "source": [
        "###Prompt engineering & Parameter tuning Version 1"
      ]
    },
    {
      "cell_type": "code",
      "execution_count": null,
      "metadata": {
        "id": "ZaElq9ZnyZDa"
      },
      "outputs": [],
      "source": [
        "max_tokens1 = 1100\n",
        "temperature1 = 0\n",
        "top_p1 = 0.95\n",
        "top_k1 = 50\n",
        "system_message1 = \"\"\"\n",
        "[INST]<<SYS>>\n",
        "You are a licensed medical professional providing evidence-based, clinically accurate information. Given the medical scenario described, explain the following points that are relevant to the query:\n",
        "\n",
        "Definition and overview of the condition or injury.\n",
        "Common causes and risk factors relevant to the case.\n",
        "Typical signs and symptoms, including any urgent “red-flag” indicators requiring immediate intervention.\n",
        "Diagnostic approaches used to confirm the condition.\n",
        "Evidence-based treatment options — include both initial/first-line management and definitive treatments, specifying when surgical, pharmacological, or other interventions are needed.\n",
        "Recovery and prognosis, including follow-up care and preventive measures if applicable.\n",
        "\n",
        "Use precise, professional medical terminology while keeping explanations clear enough for an educated layperson. When relevant, include considerations for resource-limited or emergency settings.\n",
        "Structure the answer in a clear, numbered or bulleted format for easy reading.\n",
        "<</SYS>>[/INST]\n",
        "\"\"\""
      ]
    },
    {
      "cell_type": "markdown",
      "metadata": {
        "id": "Ee_p2DR9Mhkj"
      },
      "source": [
        "###Prompt engineering & Parameter tuning Version 2"
      ]
    },
    {
      "cell_type": "code",
      "execution_count": null,
      "metadata": {
        "id": "2gtVmcYyLj5W"
      },
      "outputs": [],
      "source": [
        "# Reduce the max_tokens to reduce runtime, increase temperature for more natural language selection, system message is the same as version 1\n",
        "max_tokens2 = 900\n",
        "temperature2 = 0.1\n",
        "top_p2 = 0.90\n",
        "top_k2 = 30\n",
        "system_message2 = \"\"\"\n",
        "[INST]<<SYS>>\n",
        "You are a licensed medical professional providing evidence-based, clinically accurate information. Given the medical scenario described, explain the following points that are relevant to the query:\n",
        "\n",
        "Definition and overview of the condition or injury.\n",
        "Common causes and risk factors relevant to the case.\n",
        "Typical signs and symptoms, including any urgent “red-flag” indicators requiring immediate intervention.\n",
        "Diagnostic approaches used to confirm the condition.\n",
        "Evidence-based treatment options — include both initial/first-line management and definitive treatments, specifying when surgical, pharmacological, or other interventions are needed.\n",
        "Recovery and prognosis, including follow-up care and preventive measures if applicable.\n",
        "\n",
        "Use precise, professional medical terminology while keeping explanations clear enough for an educated layperson. When relevant, include considerations for resource-limited or emergency settings.\n",
        "Structure the answer in a clear, numbered or bulleted format for easy reading.\n",
        "<</SYS>>[/INST]\n",
        "\"\"\""
      ]
    },
    {
      "cell_type": "markdown",
      "metadata": {
        "id": "Wkis6EJGOCss"
      },
      "source": [
        "###Prompt engineering & Parameter tuning Version 3"
      ]
    },
    {
      "cell_type": "code",
      "execution_count": null,
      "metadata": {
        "id": "9Xtsl6mAOHBj"
      },
      "outputs": [],
      "source": [
        "# The system prompt has been shortened and modified to ask for more context if needed and it is more specific about the kind of expected queries\n",
        "max_tokens3 = 900\n",
        "temperature3 = 0.1\n",
        "top_p3 = 0.85\n",
        "top_k3 = 30\n",
        "system_message3 = \"\"\"\n",
        "[INST]<<SYS>>\n",
        "Act as a medical knowledge specialist AI assistant. Your role is to provide detailed, evidence-based answers to questions about symptoms, diagnostics,\n",
        "medications, treatment plans, and clinical protocols. Responses should be concise yet comprehensive, focusing strictly on the question’s context.\n",
        "If the information given is unclear or insufficient, ask targeted follow-up questions to gather necessary details before providing a full answer.\n",
        "Use bullet points or numbered steps for clarity, and highlight urgent or critical information when applicable.\n",
        "<</SYS>>[/INST]\n",
        "    \"\"\""
      ]
    },
    {
      "cell_type": "markdown",
      "metadata": {
        "id": "u3-4VoIfP3qu"
      },
      "source": [
        "###Prompt engineering & Parameter tuning Version 4"
      ]
    },
    {
      "cell_type": "code",
      "execution_count": null,
      "metadata": {
        "id": "iHdanB_RP9Mu"
      },
      "outputs": [],
      "source": [
        "#Different version of system prompt 3, reduced max_tokens and increased temperature and top_p.\n",
        "max_tokens4 = 800\n",
        "temperature4 = 0.2\n",
        "top_p4 = 0.90\n",
        "top_k4 = 30\n",
        "system_message4 = \"\"\"\n",
        "    [INST]<<SYS>>\n",
        "    You are an expert medical advisor. When answering medical queries involving diagnostics, drug information, treatment planning, specialty knowledge, or\n",
        "    critical care protocols, provide accurate, relevant, and evidence-based responses. Tailor your level of detail according to the complexity of the question, aiming for clarity and precision.\n",
        "    Format your responses flexibly using paragraphs, bullet points, or numbered lists as appropriate. If the query lacks context, ask clarifying questions\n",
        "     before answering to ensure your advice is accurate and actionable.\n",
        "    <</SYS>>[/INST]\n",
        "    \"\"\""
      ]
    },
    {
      "cell_type": "markdown",
      "metadata": {
        "id": "MBCbY4K1SmLo"
      },
      "source": [
        "###Prompt engineering & Parameter tunning Version 5"
      ]
    },
    {
      "cell_type": "code",
      "execution_count": null,
      "metadata": {
        "id": "MVeCARJ7Slmv"
      },
      "outputs": [],
      "source": [
        "# Same prompt as in version 4, max_tokens increased to 1200, temperature reduced to 0.1\n",
        "max_tokens5 = 1200\n",
        "temperature5 = 0.1\n",
        "top_p5 = 0.90\n",
        "top_k5 = 30\n",
        "system_message5 = \"\"\"\n",
        "    [INST]<<SYS>>\n",
        "    You are an expert medical advisor. When answering medical queries involving diagnostics, drug information, treatment planning, specialty knowledge, or\n",
        "    critical care protocols, provide accurate, relevant, and evidence-based responses. Tailor your level of detail according to the complexity of the question, aiming for clarity and precision.\n",
        "    Format your responses flexibly using paragraphs, bullet points, or numbered lists as appropriate. If the query lacks context, ask clarifying questions\n",
        "     before answering to ensure your advice is accurate and actionable.\n",
        "    <</SYS>>[/INST]\n",
        "    \"\"\""
      ]
    },
    {
      "cell_type": "markdown",
      "metadata": {
        "id": "9Jg3r_LWOeff"
      },
      "source": [
        "### Query 1: What is the protocol for managing sepsis in a critical care unit?"
      ]
    },
    {
      "cell_type": "markdown",
      "metadata": {
        "id": "KNsnXQx7bjsR"
      },
      "source": [
        "###Query 1, Response Version 1"
      ]
    },
    {
      "cell_type": "code",
      "execution_count": null,
      "metadata": {
        "colab": {
          "base_uri": "https://localhost:8080/"
        },
        "id": "lrJtvYZoROvl",
        "outputId": "989e0f3c-fb26-42e5-c858-1b6019128c2f"
      },
      "outputs": [
        {
          "name": "stderr",
          "output_type": "stream",
          "text": [
            "Llama.generate: prefix-match hit\n"
          ]
        },
        {
          "name": "stdout",
          "output_type": "stream",
          "text": [
            "1. Definition and Overview:\n",
            "Sepsis is a life-threatening condition caused by a dysregulated host response to infection. The body's response to an infection, often bacterial, triggers a cascade of inflammatory responses that can lead to organ dysfunction or failure (septic shock). Severe sepsis and septic shock are the most extreme manifestations of sepsis.\n",
            "\n",
            "2. Common Causes and Risk Factors:\n",
            "Common causes include bacterial infections from various sources such as respiratory, urinary, gastrointestinal, or surgical sites. Risk factors include advanced age, chronic illnesses (e.g., diabetes, cancer), weakened immune system, intravascular devices, and recent surgery.\n",
            "\n",
            "3. Signs and Symptoms:\n",
            "Early signs may include fever, chills, rapid heart rate, rapid breathing, confusion, and increased white blood cell count. Severe sepsis can present with decreased urine output, altered mental status, lactic acidosis, and hypotension (low blood pressure). Red-flag symptoms requiring immediate intervention include severe respiratory distress, cardiovascular instability, and signs of organ failure.\n",
            "\n",
            "4. Diagnostic Approaches:\n",
            "Diagnosis is based on clinical suspicion and laboratory findings such as elevated white blood cell count, lactic acid levels, and C-reactive protein (CRP). Blood cultures are essential to identify the causative pathogen. Imaging studies may be used to locate the source of infection.\n",
            "\n",
            "5. Evidence-Based Treatment Options:\n",
            "Initial management includes supportive measures such as maintaining adequate oxygenation and circulation, administering intravenous fluids, and providing antibiotics based on culture results. Vasopressors and corticosteroids may be necessary for septic shock. Early goal-directed therapy (EGDT) is a protocolized approach to managing sepsis that has been shown to improve outcomes. Surgical intervention may be required if the infection source is not responding to antibiotics or if there is evidence of ongoing infection.\n",
            "\n",
            "6. Recovery and Prognosis:\n",
            "Recovery depends on the severity of the infection, the patient's underlying health conditions, and timely, effective treatment. Follow-up care includes monitoring for complications such as persistent infection, organ dysfunction, or recurrent infections. Preventive measures include maintaining good hygiene practices, vaccinations, and addressing underlying chronic illnesses.\n",
            "\n",
            "7. Considerations for Resource-Limited Settings:\n",
            "In resource-limited settings, early recognition and prompt treatment are crucial. Simple clinical scoring systems like the Quick Sequential Organ Failure Assessment (qSOFA) can help identify patients at risk of developing severe sepsis or septic shock. Limited access to laboratory tests and imaging studies may necessitate a more reliance on clinical judgment and supportive care measures.\n"
          ]
        }
      ],
      "source": [
        "user_prompt = \"What is the protocol for managing sepsis in a critical care unit?\"\n",
        "prompt = f\"{user_prompt}\\n{system_message1}\"\n",
        "response = model_response(prompt, max_tokens=max_tokens1, temperature=temperature1, top_p=top_p1, top_k=top_k1)\n",
        "print(response)"
      ]
    },
    {
      "cell_type": "markdown",
      "metadata": {
        "id": "W1oEY32ubiHZ"
      },
      "source": [
        "###Query 1, Response Version 2"
      ]
    },
    {
      "cell_type": "code",
      "execution_count": null,
      "metadata": {
        "colab": {
          "base_uri": "https://localhost:8080/"
        },
        "id": "NUOdPu08MJRp",
        "outputId": "37fea1e7-7032-4c69-a7e0-3bec07857cda"
      },
      "outputs": [
        {
          "name": "stderr",
          "output_type": "stream",
          "text": [
            "Llama.generate: prefix-match hit\n"
          ]
        },
        {
          "name": "stdout",
          "output_type": "stream",
          "text": [
            "1. Definition and Overview:\n",
            "Sepsis is a life-threatening condition caused by a dysregulated host response to infection. It can lead to tissue damage, organ failure, and even death if not recognized and treated promptly. Septic shock occurs when sepsis progresses to the point where vital organ functions are compromised.\n",
            "\n",
            "2. Common Causes and Risk Factors:\n",
            "Sepsis is most commonly caused by bacterial infections, particularly those affecting the lungs (pneumonia), urinary tract, or abdomen. Other risk factors include advanced age, chronic illnesses (e.g., diabetes, cancer), weakened immune systems, and invasive medical procedures (e.g., catheters).\n",
            "\n",
            "3. Signs and Symptoms:\n",
            "Early signs of sepsis may include fever, chills, rapid heart rate, increased respiratory rate, confusion, and decreased urine output. In severe cases, \"red-flag\" indicators such as low blood pressure, altered mental status, and decreased urine output require immediate intervention.\n",
            "\n",
            "4. Diagnostic Approaches:\n",
            "Diagnosis of sepsis is based on clinical evaluation, laboratory findings (e.g., white blood cell count, lactate levels), and imaging studies if necessary. Blood cultures are essential for identifying the causative organism.\n",
            "\n",
            "5. Evidence-Based Treatment Options:\n",
            "Initial management includes supportive measures such as intravenous fluids, oxygen therapy, and vasopressors to maintain adequate blood pressure. Antibiotics should be administered as soon as possible based on suspected infection source and culture results. In cases of septic shock, early goal-directed therapy (EGDT) may improve outcomes by targeting specific physiologic goals. Surgical intervention may be necessary for source control in cases of infected abscesses or necrotizing fasciitis.\n",
            "\n",
            "6. Recovery and Prognosis:\n",
            "Recovery from sepsis depends on the severity of the infection, underlying health conditions, and timely, effective treatment. Follow-up care may include ongoing antibiotic therapy, rehabilitation services, and monitoring for potential complications such as secondary infections or organ dysfunction. Preventive measures include maintaining good hygiene practices, vaccinations, and prompt recognition and treatment of infections.\n",
            "\n",
            "7. Considerations for Resource-Limited or Emergency Settings:\n",
            "In resource-limited or emergency settings, prioritizing early recognition and initiation of antibiotics and fluid resuscitation is crucial. Rapid diagnostic tests, such as rapid diagnostic tests for malaria or rapid bacterial identification, can help guide treatment decisions in these settings. Additionally, community education on sepsis symptoms and prevention strategies can help reduce morbidity and mortality.\n"
          ]
        }
      ],
      "source": [
        "user_prompt = \"What is the protocol for managing sepsis in a critical care unit?\"\n",
        "prompt = f\"{user_prompt}\\n{system_message2}\"\n",
        "response = model_response(prompt, max_tokens=max_tokens2, temperature=temperature2, top_p=top_p2, top_k=top_k2)\n",
        "print(response)"
      ]
    },
    {
      "cell_type": "markdown",
      "metadata": {
        "id": "VSq95NKkbgGx"
      },
      "source": [
        "###Query 1, Response Version 3"
      ]
    },
    {
      "cell_type": "code",
      "execution_count": null,
      "metadata": {
        "colab": {
          "base_uri": "https://localhost:8080/"
        },
        "id": "RpZ3v0VzPEeV",
        "outputId": "36d7e74a-5c8c-4f51-cb0b-d6bd9c17241a"
      },
      "outputs": [
        {
          "name": "stderr",
          "output_type": "stream",
          "text": [
            "Llama.generate: prefix-match hit\n"
          ]
        },
        {
          "name": "stdout",
          "output_type": "stream",
          "text": [
            "1. Recognition: Suspect sepsis in any patient with suspected or confirmed infection, and organ dysfunction using Sequential [Sepsis-related] Organ Failure Assessment (SOFA) score ≥2 points.\n",
            "    2. Immediate resuscitation: Start fluid resuscitation to maintain adequate tissue perfusion (MAP >65 mmHg, CVP 8-12 mmHg, urine output >0.5 mL/kg/h).\n",
            "         * Give 30 mL/kg crystalloids in the first hour and continue based on clinical response.\n",
            "    3. Early antibiotic administration: Start broad-spectrum antibiotics within 1 hour of recognition if not already receiving them.\n",
            "         * Adjust based on culture results and local guidelines.\n",
            "    4. Source control: Identify and address the source of infection as soon as possible.\n",
            "         * Surgical intervention may be required for abscesses, necrotizing infections, or other sources.\n",
            "    5. Vasopressor support: Use vasopressors to maintain MAP >65 mmHg if fluid resuscitation alone is insufficient.\n",
            "         * Start with a low-dose vasopressor (e.g., dopamine 2 mcg/kg/min) and titrate up as needed.\n",
            "    6. Corticosteroids: Consider using corticosteroids in patients with septic shock who do not respond to fluid resuscitation and vasopressors within the first 6 hours.\n",
            "         * Use hydrocortisone 200 mg IV every 8 hours for 7 days or until clinical improvement.\n",
            "    7. Inotropes: Consider using inotropes (dobutamine, milrinone) to improve cardiac output if needed.\n",
            "    8. Fluid management: Monitor fluid balance closely and adjust fluid intake based on urine output, central venous pressure, and clinical response.\n",
            "         * Aim for negative fluid balance after initial resuscitation.\n",
            "    9. Electrolyte replacement: Replace electrolytes as needed to maintain normal levels.\n",
            "         * Pay special attention to potassium due to the risk of hypokalemia with fluid resuscitation and corticosteroid use.\n",
            "    10. Hemodialysis or other renal replacement therapy: Consider using these therapies in patients with severe sepsis or septic shock who have persistent organ dysfunction despite adequate fluid resuscitation.\n",
            "         * Start as soon as possible to improve outcomes.\n",
            "    11. Monitor and treat coagulopathy: Monitor coagulation parameters closely and provide appropriate replacement therapy if needed.\n",
            "         * Use fresh frozen plasma, platelets, or recombinant activated factor VII based on clinical response and bleeding risk.\n",
            "    12. Glucose control: Maintain strict glucose control (80-140 mg/dL) to reduce morbidity and mortality associated with hyperglycemia.\n",
            "         * Use insulin infusions as needed to maintain target glucose levels.\n",
            "    13. Sedation and mechanical ventilation: Provide adequate sedation and mechanical ventilation support as needed to maintain oxygenation and ventilation.\n",
            "         * Avoid over-sedation, which can delay recognition of clinical deterioration.\n",
            "    14. Continuous renal replacement therapy (CRRT): Consider using CRRT in patients with severe sepsis or septic shock who have persistent organ dysfunction despite adequate fluid resuscitation and other therapies.\n",
            "         * Start as soon as possible to improve outcomes.\n",
            "    15. Early goal-directed therapy (EGDT): Implement EGDT if available, which includes early recognition, aggressive fluid resuscitation, and targeted use of vasopressors and inotropes.\n",
            "         * Aim for a central venous oxygen saturation (ScvO2) >70% and mean arterial pressure (MAP) >65 mmHg.\n"
          ]
        }
      ],
      "source": [
        "user_prompt = \"What is the protocol for managing sepsis in a critical care unit?\"\n",
        "prompt = f\"{user_prompt}\\n{system_message3}\"\n",
        "response = model_response(prompt, max_tokens=max_tokens3, temperature=temperature3, top_p=top_p3, top_k=top_k3)\n",
        "print(response)"
      ]
    },
    {
      "cell_type": "markdown",
      "metadata": {
        "id": "R3PxNuGsR6TA"
      },
      "source": [
        "###Query 1, Response Version 4"
      ]
    },
    {
      "cell_type": "code",
      "execution_count": null,
      "metadata": {
        "colab": {
          "base_uri": "https://localhost:8080/"
        },
        "id": "s57cLsnwMgGC",
        "outputId": "83973a8f-6163-4e31-b98e-4149b3069aba"
      },
      "outputs": [
        {
          "name": "stderr",
          "output_type": "stream",
          "text": [
            "Llama.generate: prefix-match hit\n"
          ]
        },
        {
          "name": "stdout",
          "output_type": "stream",
          "text": [
            "When managing sepsis in a critical care unit, prompt recognition and effective treatment are crucial for improving patient outcomes. Here's an evidence-based protocol for sepsis management:\n",
            "\n",
            "1. **Suspect and recognize sepsis**: Assess patients with suspected infection for signs of sepsis, such as fever or hypothermia, tachycardia or bradycardia, respiratory distress, altered mental status, and lactic acidosis. Use the Sequential [Sepsis-related] Organ Failure Assessment (SOFA) score to evaluate organ dysfunction.\n",
            "\n",
            "2. **Initiate early goal-directed therapy**: Begin resuscitation with intravenous fluids to maintain adequate blood pressure and urine output, aiming for a mean arterial pressure ≥65 mmHg and a central venous pressure (CVP) of 8-12 cm H2O. Consider administering vasopressors if needed to maintain MAP.\n",
            "\n",
            "3. **Administration of broad-spectrum antibiotics**: Start empiric antimicrobial therapy as soon as possible based on the patient's clinical presentation, culture results, and local microbiology data. Adjust antibiotic regimens based on culture and sensitivity results.\n",
            "\n",
            "4. **Monitor and support vital functions**: Provide oxygen supplementation to maintain adequate oxygen saturation (SpO2 >96%). Use mechanical ventilation if necessary to ensure adequate gas exchange. Monitor electrolyte levels, glucose, and acid-base balance closely.\n",
            "\n",
            "5. **Consider vasopressor therapy**: Administer vasopressors as needed to maintain MAP ≥65 mmHg in the absence of adequate fluid resuscitation. Use norepinephrine as the first-line agent for vasopressor support.\n",
            "\n",
            "6. **Provide source control**: Address the underlying infection source, such as drainage of abscesses or debridement of necrotic tissue. Consider surgical intervention if necessary.\n",
            "\n",
            "7. **Monitor and treat coagulopathy**: Administer packed red blood cells (PRBCs) to maintain a hemoglobin >7 g/dL, fresh frozen plasma (FFP), and platelets as needed to correct coagulation abnormalities. Consider administering tranexamic acid to reduce bleeding risk.\n",
            "\n",
            "8. **Provide nutritional support**: Initiate enteral feeding as soon as possible; consider parenteral nutrition if enteral feeding is not feasible within 24 hours.\n",
            "\n",
            "9. **Monitor and treat metabolic abnormalities**: Address electrolyte imbalances, acid-base disturbances, and glucose control. Consider administering insulin to maintain euglycemia.\n",
            "\n",
            "10. **Consider corticosteroids**: Administer corticosteroids in patients with septic shock who do not respond to fluid resuscitation and vasopressor therapy within 1 hour. Use hydrocortisone 200 mg IV daily for at least 3 days.\n",
            "\n",
            "11. **Monitor and treat complications**: Be aware of potential complications, such as cardiac dysfunction, acute kidney injury, and secondary infections, and address them promptly.\n",
            "\n",
            "Remember that individual patient care may require modifications to this protocol based on their specific clinical situation. Always consult with a critical care specialist or infectious disease expert for complex cases.\n"
          ]
        }
      ],
      "source": [
        "user_prompt = \"What is the protocol for managing sepsis in a critical care unit?\"\n",
        "prompt = f\"{user_prompt}\\n{system_message4}\"\n",
        "response = model_response(prompt, max_tokens=max_tokens4, temperature=temperature4, top_p=top_p4, top_k=top_k4)\n",
        "print(response)"
      ]
    },
    {
      "cell_type": "markdown",
      "metadata": {
        "id": "W5CtZdncUJGx"
      },
      "source": [
        "###Query 1, Response Version 5"
      ]
    },
    {
      "cell_type": "code",
      "execution_count": null,
      "metadata": {
        "colab": {
          "base_uri": "https://localhost:8080/"
        },
        "id": "r1uY5UfgUMVB",
        "outputId": "9e573c14-7208-4d60-f7d6-a4572b1c4577"
      },
      "outputs": [
        {
          "name": "stderr",
          "output_type": "stream",
          "text": [
            "Llama.generate: prefix-match hit\n"
          ]
        },
        {
          "name": "stdout",
          "output_type": "stream",
          "text": [
            "When managing sepsis in a critical care unit, prompt recognition and effective intervention are crucial for improving patient outcomes. Here's an evidence-based protocol for sepsis management:\n",
            "\n",
            "1. **Suspect and recognize sepsis**: Assess patients with suspected infection for signs of sepsis, such as fever or hypothermia, tachycardia or bradycardia, respiratory distress, altered mental status, and lactic acidosis. Use the Sequential [Sepsis-related] Organ Failure Assessment (SOFA) score to evaluate organ dysfunction.\n",
            "\n",
            "2. **Initiate early goal-directed therapy (EGDT)**: If sepsis is suspected, initiate EGDT as soon as possible. This includes:\n",
            "   - Maintaining adequate mean arterial pressure (MAP) ≥65 mmHg or a systolic blood pressure of >100 mmHg to ensure adequate tissue perfusion.\n",
            "   - Achieving a central venous oxygen saturation (ScvO2) ≥70% through fluid resuscitation and/or vasopressors.\n",
            "   - Administering broad-spectrum antibiotics based on culture results or suspected infection source.\n",
            "   - Providing adequate oxygenation and ventilation to maintain arterial oxygen saturation (SaO2) >96%.\n",
            "\n",
            "3. **Monitor and treat organ dysfunction**: Continuously assess patients for signs of organ dysfunction using the SOFA score. Adjust treatment strategies based on changes in organ function.\n",
            "\n",
            "4. **Provide source control**: Address the underlying infection source as soon as possible, such as drainage of abscesses or debridement of necrotic tissue.\n",
            "\n",
            "5. **Administration of vasopressors and inotropes**: If MAP remains below 65 mmHg despite adequate fluid resuscitation, administer vasopressors to maintain adequate perfusion.\n",
            "\n",
            "6. **Corticosteroids**: Consider using corticosteroids for patients with septic shock who do not respond to initial fluid resuscitation and vasopressor therapy.\n",
            "\n",
            "7. **Inotropes**: If cardiac output is inadequate despite adequate fluid resuscitation, consider administering inotropic agents such as dobutamine or milrinone.\n",
            "\n",
            "8. **Fluid management**: Monitor fluid balance closely to avoid over-resuscitation and complications such as pulmonary edema.\n",
            "\n",
            "9. **Electrolyte replacement**: Administer electrolytes as needed, particularly potassium, phosphorus, and magnesium, to maintain normal levels.\n",
            "\n",
            "10. **Glucose control**: Maintain strict glucose control (80-140 mg/dL) to prevent hyperglycemia, which can worsen inflammation and impair immune response.\n",
            "\n",
            "11. **Nutritional support**: Provide adequate nutritional support to maintain energy balance and promote healing.\n",
            "\n",
            "12. **Anticoagulation**: Consider anticoagulation for patients with sepsis who are at risk of thrombosis, such as those with severe sepsis or septic shock.\n",
            "\n",
            "13. **Monitor and treat complications**: Be vigilant for complications such as arrhythmias, myocardial dysfunction, acute respiratory distress syndrome (ARDS), and multiple organ failure. Adjust treatment strategies accordingly.\n",
            "\n",
            "14. **Follow up care**: After stabilization, continue close monitoring and follow-up care to prevent recurrence of infection or sepsis.\n"
          ]
        }
      ],
      "source": [
        "user_prompt = \"What is the protocol for managing sepsis in a critical care unit?\"\n",
        "prompt = f\"{user_prompt}\\n{system_message5}\"\n",
        "response = model_response(prompt, max_tokens=max_tokens5, temperature=temperature5, top_p=top_p5, top_k=top_k5)\n",
        "print(response)"
      ]
    },
    {
      "cell_type": "markdown",
      "metadata": {
        "id": "gNCgOdcFoLbT"
      },
      "source": [
        "####Observations:\n",
        "- The highly structured prompt used in versions 1 and 2 constrained the model to follow a fixed output format, prioritizing adherence to the template over tailoring the content to the specific query. While this ensured consistent organization, it reduced flexibility and sometimes limited the relevance or adaptability of the response. For this reason, versions 1 and 2 will be discontinued for subsequent queries."
      ]
    },
    {
      "cell_type": "markdown",
      "metadata": {
        "id": "iYpyw4HjOeff"
      },
      "source": [
        "### Query 2: What are the common symptoms for appendicitis, and can it be cured via medicine? If not, what surgical procedure should be followed to treat it?"
      ]
    },
    {
      "cell_type": "markdown",
      "metadata": {
        "id": "c5AQuapmueS7"
      },
      "source": [
        "###Query 2, Response Version 3"
      ]
    },
    {
      "cell_type": "code",
      "execution_count": null,
      "metadata": {
        "colab": {
          "base_uri": "https://localhost:8080/"
        },
        "id": "VQt81FXPufyy",
        "outputId": "793d8f8f-9d7f-4b44-b553-ef08d4ccf5bf"
      },
      "outputs": [
        {
          "name": "stderr",
          "output_type": "stream",
          "text": [
            "Llama.generate: prefix-match hit\n"
          ]
        },
        {
          "name": "stdout",
          "output_type": "stream",
          "text": [
            " * Appendicitis is an inflammatory condition of the appendix, a small pouch that extends from the cecum (the beginning of the large intestine).\n",
            "     * Common symptoms include:\n",
            "         + Sudden pain in the lower right abdomen, which may begin as mild and gradually worsen over hours.\n",
            "         + Loss of appetite.\n",
            "         + Nausea and vomiting.\n",
            "         + Fever (often low-grade at first).\n",
            "         + Abdominal swelling and tenderness.\n",
            "         + Pain that worsens when walking, coughing, or making other jarring movements.\n",
            "     * Appendicitis cannot be cured via medicine alone. Antibiotics may help treat any accompanying infection but will not resolve the inflammation in the appendix.\n",
            "     * The standard treatment for appendicitis is surgical removal of the appendix, known as an appendectomy. This procedure can be performed laparoscopically (using small incisions and a camera) or open (larger incision).\n",
            "         + Laparoscopic appendectomy: Quicker recovery time, fewer complications, and less scarring compared to open appendectomy.\n",
            "         + Open appendectomy: More common in children, pregnant women, and those with complex medical conditions.\n",
            "     * Complications from appendicitis can include perforation (rupture) of the appendix, which may lead to peritonitis (inflammation of the abdominal cavity), sepsis (life-threatening infection), or bowel obstruction. Early diagnosis and treatment are crucial to prevent these complications.\n"
          ]
        }
      ],
      "source": [
        "user_prompt = \"What are the common symptoms for appendicitis, and can it be cured via medicine? If not, what surgical procedure should be followed to treat it?\"\n",
        "prompt = f\"{user_prompt}\\n{system_message3}\"\n",
        "response = model_response(prompt, max_tokens=max_tokens3, temperature=temperature3, top_p=top_p3, top_k=top_k3)\n",
        "print(response)"
      ]
    },
    {
      "cell_type": "markdown",
      "metadata": {
        "id": "gvube3VPuImi"
      },
      "source": [
        "###Query 2, Response Version 4"
      ]
    },
    {
      "cell_type": "code",
      "execution_count": null,
      "metadata": {
        "colab": {
          "base_uri": "https://localhost:8080/"
        },
        "id": "eYjyq-GZuHHK",
        "outputId": "6c58577c-610c-4d4e-8f96-d8fad8aa4d53"
      },
      "outputs": [
        {
          "name": "stderr",
          "output_type": "stream",
          "text": [
            "Llama.generate: prefix-match hit\n"
          ]
        },
        {
          "name": "stdout",
          "output_type": "stream",
          "text": [
            "Appendicitis is a medical condition characterized by inflammation of the appendix, a small tube-shaped organ located in the lower right side of the abdomen. The following are common symptoms for appendicitis:\n",
            "\n",
            "    - Sudden pain that starts around the navel and then shifts to the lower right abdomen\n",
            "    - Loss of appetite\n",
            "    - Nausea and vomiting\n",
            "    - Abdominal swelling\n",
            "    - Fever, although not always present\n",
            "    - Feeling bloated or gassy\n",
            "    - Diarrhea or constipation\n",
            "    - Inability to pass gas or have a bowel movement\n",
            "\n",
            "If you suspect appendicitis based on these symptoms, it's essential to seek medical attention promptly. Appendicitis can be a serious condition if left untreated, as the appendix may rupture and cause peritonitis – an infection of the abdominal cavity that can lead to sepsis, organ damage, or even death.\n",
            "\n",
            "There is no definitive cure for appendicitis with medication alone. Antibiotics might be prescribed to treat any potential infection, but they cannot resolve the underlying inflammation in the appendix. Surgical removal of the appendix (appendectomy) is the standard treatment for appendicitis.\n",
            "\n",
            "Appendectomies can be performed as open procedures or laparoscopically:\n",
            "\n",
            "1. Open Appendectomy: The surgeon makes a single incision, usually in the lower right abdomen, to remove the appendix. This method may take longer to heal and result in a larger scar.\n",
            "2. Laparoscopic Appendectomy: The surgeon makes several small incisions and uses a laparoscope (a thin tube with a camera) to guide the removal of the appendix. This minimally invasive procedure typically results in less pain, fewer complications, and quicker recovery times compared to open appendectomies.\n",
            "\n",
            "In summary, if you suspect appendicitis based on the symptoms mentioned above, it's crucial to seek medical attention promptly. Appendicitis cannot be cured with medication alone, and surgery (appendectomy) is the standard treatment for this condition. Your healthcare provider will determine which surgical approach is best for your individual situation.\n"
          ]
        }
      ],
      "source": [
        "user_prompt = \"What are the common symptoms for appendicitis, and can it be cured via medicine? If not, what surgical procedure should be followed to treat it?\"\n",
        "prompt = f\"{user_prompt}\\n{system_message4}\"\n",
        "response = model_response(prompt, max_tokens=max_tokens4, temperature=temperature4, top_p=top_p4, top_k=top_k4)\n",
        "print(response)"
      ]
    },
    {
      "cell_type": "markdown",
      "metadata": {
        "id": "FvD_IvtFbW8p"
      },
      "source": [
        "###Query 2, Response Version 5"
      ]
    },
    {
      "cell_type": "code",
      "execution_count": null,
      "metadata": {
        "colab": {
          "base_uri": "https://localhost:8080/"
        },
        "id": "GXl09pFfRPBr",
        "outputId": "6e46d048-201b-4184-8461-bf07c2f8f351"
      },
      "outputs": [
        {
          "name": "stderr",
          "output_type": "stream",
          "text": [
            "Llama.generate: prefix-match hit\n"
          ]
        },
        {
          "name": "stdout",
          "output_type": "stream",
          "text": [
            "Appendicitis is a medical condition characterized by inflammation of the appendix, a small pouch that extends from the cecum (the beginning of the large intestine). The following are common symptoms for appendicitis:\n",
            "\n",
            "- Sudden pain in the lower right abdomen, which may begin as mild and gradually worsen over hours or days.\n",
            "- Loss of appetite.\n",
            "- Nausea and vomiting.\n",
            "- Abdominal swelling and tenderness, especially in the lower right area.\n",
            "- Fever and chills.\n",
            "- Constipation or diarrhea.\n",
            "- Pain that worsens when walking, coughing, or making other jarring movements.\n",
            "\n",
            "Appendicitis is typically treated with surgery to remove the appendix before it ruptures and causes further complications. This procedure, called an appendectomy, can be performed as an open surgery or laparoscopically (using small incisions and a camera). The choice of surgical approach depends on factors such as the patient's overall health, the severity of the inflammation, and the surgeon's preference.\n",
            "\n",
            "Medications alone cannot cure appendicitis because they do not address the underlying cause – the inflamed and potentially ruptured appendix. However, antibiotics may be administered before or during surgery to help prevent infection in the abdominal cavity. After surgery, pain medication and a clear liquid diet are often recommended to aid recovery.\n",
            "\n",
            "It is essential to consult a healthcare professional if you suspect appendicitis, as prompt diagnosis and treatment can significantly improve outcomes and reduce the risk of complications. If left untreated, an inflamed appendix may rupture, leading to peritonitis – a potentially life-threatening infection in the abdominal cavity.\n"
          ]
        }
      ],
      "source": [
        "user_prompt = \"What are the common symptoms for appendicitis, and can it be cured via medicine? If not, what surgical procedure should be followed to treat it?\"\n",
        "prompt = f\"{user_prompt}\\n{system_message5}\"\n",
        "response = model_response(prompt, max_tokens=max_tokens5, temperature=temperature5, top_p=top_p5, top_k=top_k5)\n",
        "print(response)"
      ]
    },
    {
      "cell_type": "markdown",
      "metadata": {
        "id": "dRp92JQZOeff"
      },
      "source": [
        "### Query 3: What are the effective treatments or solutions for addressing sudden patchy hair loss, commonly seen as localized bald spots on the scalp, and what could be the possible causes behind it?"
      ]
    },
    {
      "cell_type": "markdown",
      "metadata": {
        "id": "O_lwWICmvMBc"
      },
      "source": [
        "###Query 3, Response Version 3"
      ]
    },
    {
      "cell_type": "code",
      "execution_count": null,
      "metadata": {
        "colab": {
          "base_uri": "https://localhost:8080/"
        },
        "id": "SN5zzzTlvFuT",
        "outputId": "ebe3cb66-ac7f-457a-9e77-6869397b6534"
      },
      "outputs": [
        {
          "name": "stderr",
          "output_type": "stream",
          "text": [
            "Llama.generate: prefix-match hit\n"
          ]
        },
        {
          "name": "stdout",
          "output_type": "stream",
          "text": [
            "1. Sudden patchy hair loss, also known as alopecia areata, is an autoimmune disorder that causes hair loss in small, round patches on the scalp, face, or other areas of the body.\n",
            "    2. Possible causes include genetics, stress, viral infections, and other autoimmune diseases. In some cases, no specific cause can be identified.\n",
            "    3. Diagnosis is typically made based on physical examination and ruling out other conditions that may cause similar symptoms.\n",
            "    4. Treatment options for alopecia areata include:\n",
            "        * Topical treatments: Minoxidil (Rogaine) or corticosteroid creams or ointments can help stimulate hair growth.\n",
            "        * Injections: Corticosteroids, such as triamcinolone acetonide or methotrexate, can be injected directly into the bald spots to promote regrowth.\n",
            "        * Systemic treatments: Oral corticosteroids, immunosuppressive drugs, or biologics (such as infliximab or adalimumab) may be prescribed for more extensive hair loss or when other treatments are not effective.\n",
            "    5. Lifestyle modifications, such as reducing stress and maintaining a healthy diet, can also help improve symptoms of alopecia areata.\n",
            "    6. It is important to note that there is no cure for alopecia areata, and treatment outcomes vary from person to person. Some people may experience complete regrowth, while others may have recurring hair loss.\n",
            "    7. If you are experiencing sudden patchy hair loss, it is recommended that you speak with a healthcare provider or dermatologist for an accurate diagnosis and personalized treatment plan.\n"
          ]
        }
      ],
      "source": [
        "user_prompt = \"What are the effective treatments or solutions for addressing sudden patchy hair loss, commonly seen as localized bald spots on the scalp, and what could be the possible causes behind it?\"\n",
        "prompt = f\"{user_prompt}\\n{system_message3}\"\n",
        "response = model_response(prompt, max_tokens=max_tokens3, temperature=temperature3, top_p=top_p3, top_k=top_k3)\n",
        "print(response)"
      ]
    },
    {
      "cell_type": "markdown",
      "metadata": {
        "id": "P4APl76UvBOj"
      },
      "source": [
        "###Query 3, Response Version 4"
      ]
    },
    {
      "cell_type": "code",
      "execution_count": null,
      "metadata": {
        "colab": {
          "base_uri": "https://localhost:8080/"
        },
        "id": "fN7ryl2ou_mb",
        "outputId": "670e615f-2501-405e-a40a-5654f65ab392"
      },
      "outputs": [
        {
          "name": "stderr",
          "output_type": "stream",
          "text": [
            "Llama.generate: prefix-match hit\n"
          ]
        },
        {
          "name": "stdout",
          "output_type": "stream",
          "text": [
            "I. Introduction\n",
            "\n",
            "Sudden patchy hair loss, also known as alopecia areata, is a common autoimmune disorder that results in the sudden onset of bald spots on the scalp or other areas of the body. The exact cause of this condition is not fully understood, but it's believed to be related to a combination of genetic and environmental factors. In some cases, stress or emotional trauma may trigger the onset of alopecia areata.\n",
            "\n",
            "II. Diagnosis\n",
            "\n",
            "The diagnosis of alopecia areata is typically made based on the appearance of the bald patches on the scalp. Your healthcare provider may perform a physical examination and ask about your medical history to rule out other possible causes of hair loss, such as thyroid disorders or nutritional deficiencies. In some cases, a biopsy may be performed to confirm the diagnosis.\n",
            "\n",
            "III. Treatment Options\n",
            "\n",
            "A. Topical treatments: Corticosteroids in the form of creams or ointments can be applied directly to the bald patches to help stimulate hair growth. Minoxidil (Rogaine) is another topical treatment that has been shown to promote hair regrowth in some people with alopecia areata.\n",
            "\n",
            "B. Injected treatments: Corticosteroids can also be injected directly into the bald patches to help stimulate hair growth. This approach may be more effective than topical treatments for larger bald spots or areas of extensive hair loss.\n",
            "\n",
            "C. Systemic treatments: Oral corticosteroids, immunosuppressive drugs, and other systemic medications may be prescribed in cases of severe alopecia areata or when other treatments have been unsuccessful. These medications can carry significant risks and side effects, so they are typically reserved for more advanced cases.\n",
            "\n",
            "D. Alternative therapies: Some people with alopecia areata find that alternative therapies, such as acupuncture, herbal remedies, or stress reduction techniques, help improve their symptoms. However, the evidence supporting these treatments is limited, and they should not be relied upon as a primary treatment approach.\n",
            "\n",
            "IV. Prevention and Lifestyle Modifications\n",
            "\n",
            "While there is no surefire way to prevent alopecia areata, certain lifestyle modifications may help reduce your risk or improve your overall health:\n",
            "\n",
            "A. Manage stress: Chronic stress can contribute to the onset and worsening of alopecia areata. Practicing stress management techniques, such as meditation, deep breathing exercises, or yoga, may help reduce stress levels and improve overall well-being.\n",
            "\n",
            "B. Eat a balanced diet: A healthy diet rich in essential nutrients can support hair growth and overall health. Focus on consuming plenty of fruits, vegetables, lean proteins, and whole grains.\n",
            "\n",
            "C. Avoid tight hairstyles: Tight hairstyles, such as braids or ponytails, can put excessive pressure on the scalp and potentially contribute to hair loss. Opt for looser styles that don't pull on your hair.\n",
            "\n",
            "D. Protect your scalp from damage: Exposure to harsh chemicals, sunlight, or pollution can damage the scalp and potentially contribute to hair loss. Wear a hat or use a protective spray when spending time in the sun, and avoid using harsh shampoos or styling products that contain harsh chemicals.\n",
            "\n",
            "V. Conclusion\n",
            "\n",
            "Sudden patchy hair loss, or alopecia areata, can be a distressing condition that affects people of all ages. While there is no cure for this autoimmune disorder, various treatments and lifestyle modifications may help improve symptoms and promote hair regrowth. If you're experiencing\n"
          ]
        }
      ],
      "source": [
        "user_prompt = \"What are the effective treatments or solutions for addressing sudden patchy hair loss, commonly seen as localized bald spots on the scalp, and what could be the possible causes behind it?\"\n",
        "prompt = f\"{user_prompt}\\n{system_message4}\"\n",
        "response = model_response(prompt, max_tokens=max_tokens4, temperature=temperature4, top_p=top_p4, top_k=top_k4)\n",
        "print(response)"
      ]
    },
    {
      "cell_type": "markdown",
      "metadata": {
        "id": "sECSrEwVx7hp"
      },
      "source": [
        "###Query 3, Response Version 5"
      ]
    },
    {
      "cell_type": "code",
      "execution_count": null,
      "metadata": {
        "colab": {
          "base_uri": "https://localhost:8080/"
        },
        "id": "JOgATEpMRPve",
        "outputId": "135a3c39-cbc2-437b-f0e9-eb7e44679fe8"
      },
      "outputs": [
        {
          "name": "stderr",
          "output_type": "stream",
          "text": [
            "Llama.generate: prefix-match hit\n"
          ]
        },
        {
          "name": "stdout",
          "output_type": "stream",
          "text": [
            "I. Introduction\n",
            "        A. Sudden patchy hair loss, also known as alopecia areata, is a common autoimmune disorder that results in the sudden appearance of bald spots on the scalp or other areas of the body.\n",
            "        B. This condition can be distressing for individuals, but it's important to understand that it's not a sign of poor health or hygiene.\n",
            "    \n",
            "II. Possible Causes\n",
            "        A. The exact cause of alopecia areata is unknown, but it's believed to be an autoimmune response where the body's immune system attacks hair follicles.\n",
            "        B. Other potential triggers include stress, genetics, and viral infections.\n",
            "    \n",
            "III. Treatment Options\n",
            "        1. Topical treatments: Minoxidil (Rogaine) or corticosteroid creams can be applied directly to the affected area to stimulate hair growth.\n",
            "        2. Injections: Corticosteroids can be injected into the bald spots to reduce inflammation and promote hair regrowth.\n",
            "        3. Systemic treatments: Oral corticosteroids, immunosuppressive drugs, or biologics (such as infliximab) may be prescribed for more extensive cases or when other treatments fail.\n",
            "        4. Alternative therapies: Acupuncture, wig wearing, and stress management techniques can help improve symptoms and boost self-confidence.\n",
            "    \n",
            "IV. Prevention and Lifestyle Modifications\n",
            "        A. Managing stress through relaxation techniques, regular exercise, or counseling may help prevent hair loss episodes.\n",
            "        B. Maintaining a healthy diet rich in essential nutrients like iron, zinc, and biotin can support overall hair health.\n",
            "        C. Avoiding tight hairstyles that pull on the scalp and damaging chemicals like harsh shampoos or dyes can help minimize damage to hair follicles.\n",
            "    \n",
            "V. Conclusion\n",
            "        A. Sudden patchy hair loss, or alopecia areata, can be a distressing condition, but there are various treatment options available that can help promote hair regrowth and improve symptoms.\n",
            "        B. Understanding the possible causes and implementing preventative measures can also help minimize the risk of future episodes.\n",
            "        C. If you're experiencing sudden patchy hair loss, it's important to consult a healthcare professional for an accurate diagnosis and personalized treatment plan.\n"
          ]
        }
      ],
      "source": [
        "user_prompt = \"What are the effective treatments or solutions for addressing sudden patchy hair loss, commonly seen as localized bald spots on the scalp, and what could be the possible causes behind it?\"\n",
        "prompt = f\"{user_prompt}\\n{system_message5}\"\n",
        "response = model_response(prompt, max_tokens=max_tokens5, temperature=temperature5, top_p=top_p5, top_k=top_k5)\n",
        "print(response)"
      ]
    },
    {
      "cell_type": "markdown",
      "metadata": {
        "id": "AA45zwyUOefg"
      },
      "source": [
        "### Query 4:  What treatments are recommended for a person who has sustained a physical injury to brain tissue, resulting in temporary or permanent impairment of brain function?"
      ]
    },
    {
      "cell_type": "markdown",
      "metadata": {
        "id": "6Hl4UXIPvcfr"
      },
      "source": [
        "###Query 4, Response Version 3"
      ]
    },
    {
      "cell_type": "code",
      "execution_count": null,
      "metadata": {
        "colab": {
          "base_uri": "https://localhost:8080/"
        },
        "id": "5Il7TQidvYlr",
        "outputId": "ddc023d2-0001-4fd7-aebe-fd96d13e8dd4"
      },
      "outputs": [
        {
          "name": "stderr",
          "output_type": "stream",
          "text": [
            "Llama.generate: prefix-match hit\n"
          ]
        },
        {
          "name": "stdout",
          "output_type": "stream",
          "text": [
            "1. Traumatic Brain Injury (TBI) treatment depends on the severity and location of the injury. Here are general recommendations:\n",
            "    2. _Immediate Care:_ Ensure airway is clear, provide oxygen if necessary, control bleeding, and prevent further injury.\n",
            "    3. _Medical Evaluation:_ Hospitalization for observation, diagnostic tests (CT or MRI scan, EEG, etc.), and monitoring of vital signs.\n",
            "    4. _Supportive Care:_ Provide adequate nutrition, hydration, and rest; manage symptoms such as pain, swelling, and seizures.\n",
            "    5. _Rehabilitation:_ Physical therapy to improve motor skills, occupational therapy for cognitive and daily living skills, speech therapy for communication issues, and psychological counseling for emotional support.\n",
            "    6. _Medications:_ Prescribed based on symptoms: anti-inflammatory drugs for swelling, pain relievers, anticonvulsants for seizures, and psychotropic medications for behavioral changes or depression.\n",
            "    7. _Surgery:_ In some cases, surgery may be required to remove hematomas or decompress skull fractures.\n",
            "    8. _Long-term Management:_ Regular follow-up appointments with healthcare professionals, lifestyle modifications (diet, exercise), and community support services.\n",
            "    9. _Prevention:_ Wear protective gear during high-risk activities, practice safe driving habits, and educate others about TBI prevention.\n"
          ]
        }
      ],
      "source": [
        "user_prompt = \"What treatments are recommended for a person who has sustained a physical injury to brain tissue, resulting in temporary or permanent impairment of brain function?\"\n",
        "prompt = f\"{user_prompt}\\n{system_message3}\"\n",
        "response = model_response(prompt, max_tokens=max_tokens3, temperature=temperature3, top_p=top_p3, top_k=top_k3)\n",
        "print(response)"
      ]
    },
    {
      "cell_type": "markdown",
      "metadata": {
        "id": "ZyNQddibv2Ec"
      },
      "source": [
        "###Query 4, Response Version 4"
      ]
    },
    {
      "cell_type": "code",
      "execution_count": null,
      "metadata": {
        "colab": {
          "base_uri": "https://localhost:8080/"
        },
        "id": "Ek0kItJMvYe0",
        "outputId": "e7f3dd6b-bed6-43dc-832a-bdc02b0b9844"
      },
      "outputs": [
        {
          "name": "stderr",
          "output_type": "stream",
          "text": [
            "Llama.generate: prefix-match hit\n"
          ]
        },
        {
          "name": "stdout",
          "output_type": "stream",
          "text": [
            "I. Introduction:\n",
            "       A. Brain injuries can result in temporary or permanent impairment of brain function, leading to various symptoms such as headaches, memory loss, difficulty with speech or movement, and altered mood or behavior.\n",
            "       B. The treatment for a brain injury depends on the severity and location of the injury, as well as the individual's overall health and age.\n",
            "       C. In this response, we will discuss some common treatments for brain injuries, focusing on medical interventions and rehabilitation strategies.\n",
            "\n",
            "    II. Medical Interventions:\n",
            "       A. Acute Care: For severe brain injuries, initial treatment may include measures to prevent further damage, such as surgery to remove hematomas or decompressive craniectomy to relieve pressure within the skull.\n",
            "         1. Medications: Patients may receive medications to manage symptoms, such as pain relievers, sedatives, and anti-seizure drugs.\n",
            "         2. Intensive Care Unit (ICU) Monitoring: Brain injury patients often require close monitoring in an ICU setting to ensure adequate oxygenation, ventilation, and blood pressure control.\n",
            "       B. Rehabilitation: Once the acute phase of care has passed, rehabilitation becomes a crucial component of treatment. This may include physical therapy, occupational therapy, speech therapy, and cognitive rehabilitation.\n",
            "         1. Physical Therapy: Helps patients regain strength, coordination, and mobility through exercises designed to improve muscle function and balance.\n",
            "         2. Occupational Therapy: Teaches patients skills necessary for daily living activities, such as dressing, cooking, and using utensils.\n",
            "         3. Speech Therapy: Addresses communication difficulties, including speech production, language comprehension, and swallowing.\n",
            "         4. Cognitive Rehabilitation: Helps patients improve memory, attention, problem-solving skills, and other cognitive functions affected by the injury.\n",
            "       C. Long-Term Management: Depending on the severity of the brain injury, patients may require ongoing care and support to manage symptoms and maintain functional independence. This may include medications, assistive devices, and modifications to their home or work environment.\n",
            "\n",
            "    III. Lifestyle Modifications:\n",
            "       A. Rest and Relaxation: Brain injury patients should prioritize rest and avoid overexertion, as fatigue can worsen symptoms and hinder recovery.\n",
            "       B. Nutrition: Proper nutrition is essential for brain health and healing. Patients may require assistance with meal planning and preparation to ensure they are consuming a balanced diet.\n",
            "       C. Stress Management: Managing stress through techniques such as meditation, deep breathing exercises, or progressive muscle relaxation can help improve overall well-being and facilitate recovery.\n",
            "       D. Social Support: Maintaining strong social connections is important for emotional health and can contribute to better outcomes following a brain injury.\n",
            "\n",
            "    IV. Conclusion:\n",
            "       A. Brain injuries can result in significant impairments, but with appropriate medical interventions, rehabilitation, and lifestyle modifications, many individuals can make substantial progress towards recovery.\n",
            "       B. It is essential that patients work closely with their healthcare team to develop an individualized treatment plan tailored to their specific needs and goals.\n"
          ]
        }
      ],
      "source": [
        "user_prompt = \"What treatments are recommended for a person who has sustained a physical injury to brain tissue, resulting in temporary or permanent impairment of brain function?\"\n",
        "prompt = f\"{user_prompt}\\n{system_message4}\"\n",
        "response = model_response(prompt, max_tokens=max_tokens4, temperature=temperature4, top_p=top_p4, top_k=top_k4)\n",
        "print(response)"
      ]
    },
    {
      "cell_type": "markdown",
      "metadata": {
        "id": "W_DEizSDv3Hs"
      },
      "source": [
        "###Query 4, Response Version 5"
      ]
    },
    {
      "cell_type": "code",
      "execution_count": null,
      "metadata": {
        "colab": {
          "base_uri": "https://localhost:8080/"
        },
        "id": "VA7G8FOnRQZY",
        "outputId": "a4683e51-d625-4e37-d991-ce3a56c8c8f4"
      },
      "outputs": [
        {
          "name": "stderr",
          "output_type": "stream",
          "text": [
            "Llama.generate: prefix-match hit\n"
          ]
        },
        {
          "name": "stdout",
          "output_type": "stream",
          "text": [
            "I. Introduction:\n",
            "       A. Brain injuries can result in a wide range of impairments, from mild concussions to severe traumatic brain injuries (TBI).\n",
            "       B. Treatment for brain injuries depends on the severity and type of injury, as well as the individual's overall health and age.\n",
            "\n",
            " II. Immediate Care:\n",
            "       A. For moderate to severe brain injuries, seek emergency medical attention right away.\n",
            "          1. The primary goal is to prevent further damage and ensure the person receives appropriate care.\n",
            "          2. Treatment may include: airway management, breathing support, fluid replacement, and medication to control intracranial pressure or seizures.\n",
            "\n",
            " III. Rehabilitation:\n",
            "       A. Rehabilitation is an essential component of brain injury treatment, regardless of severity.\n",
            "          1. The goal is to help the person regain lost skills and functions, improve overall health, and maximize independence.\n",
            "          2. Rehabilitation may include physical therapy, occupational therapy, speech-language therapy, cognitive rehabilitation, and social services.\n",
            "\n",
            " IV. Medications:\n",
            "       A. Depending on the specific symptoms and complications of a brain injury, various medications may be prescribed.\n",
            "          1. Pain relievers (e.g., acetaminophen or nonsteroidal anti-inflammatory drugs) for headaches or other pain.\n",
            "          2. Anti-seizure medications to prevent seizures.\n",
            "          3. Psychotropic medications to manage mood swings, anxiety, depression, or other behavioral issues.\n",
            "          4. Medications to improve cognitive function (e.g., cholinesterase inhibitors for Alzheimer's disease).\n",
            "\n",
            " V. Lifestyle modifications:\n",
            "       A. Making certain lifestyle changes can help support brain health and recovery after an injury.\n",
            "          1. Getting enough rest and sleep.\n",
            "          2. Eating a healthy, balanced diet.\n",
            "          3. Engaging in regular physical activity.\n",
            "          4. Avoiding alcohol and drugs.\n",
            "          5. Managing stress through relaxation techniques or counseling.\n",
            "\n",
            " VI. Assistive devices:\n",
            "       A. Depending on the extent of brain injury, assistive devices may be necessary to help with daily activities.\n",
            "          1. Examples include wheelchairs, walkers, communication aids, and adaptive equipment for dressing and bathing.\n",
            "\n",
            " VII. Support groups:\n",
            "       A. Joining a support group can provide valuable emotional and social support for individuals with brain injuries and their families.\n",
            "          1. These groups offer opportunities to connect with others who have experienced similar challenges and learn from one another's experiences.\n",
            "\n",
            " VIII. Conclusion:\n",
            "       A. Brain injury treatment is complex and multifaceted, involving a combination of medical interventions, rehabilitation therapies, lifestyle modifications, and support services.\n",
            "          1. The specific treatments recommended will depend on the individual's unique needs and circumstances.\n",
            "          2. Working closely with healthcare professionals to develop an effective treatment plan is essential for optimizing recovery and improving quality of life.\n"
          ]
        }
      ],
      "source": [
        "user_prompt = \"What treatments are recommended for a person who has sustained a physical injury to brain tissue, resulting in temporary or permanent impairment of brain function?\"\n",
        "prompt = f\"{user_prompt}\\n{system_message5}\"\n",
        "response = model_response(prompt, max_tokens=max_tokens5, temperature=temperature5, top_p=top_p5, top_k=top_k5)\n",
        "print(response)"
      ]
    },
    {
      "cell_type": "markdown",
      "metadata": {
        "id": "TYXxiSuBOefg"
      },
      "source": [
        "### Query 5: What are the necessary precautions and treatment steps for a person who has fractured their leg during a hiking trip, and what should be considered for their care and recovery?"
      ]
    },
    {
      "cell_type": "markdown",
      "metadata": {
        "id": "TE7S1I7kVONF"
      },
      "source": [
        "###Query 5, Response Version 3"
      ]
    },
    {
      "cell_type": "code",
      "execution_count": null,
      "metadata": {
        "colab": {
          "base_uri": "https://localhost:8080/"
        },
        "id": "8Tbk2UZ6Vdzl",
        "outputId": "cf35976a-6300-4e02-b769-bfa776079788"
      },
      "outputs": [
        {
          "name": "stderr",
          "output_type": "stream",
          "text": [
            "Llama.generate: prefix-match hit\n"
          ]
        },
        {
          "name": "stdout",
          "output_type": "stream",
          "text": [
            "1. Assess the severity of the injury: If you suspect a leg fracture during a hiking trip, first assess the patient's vital signs and overall condition. Check for signs of shock, such as pale skin, rapid heartbeat, or shallow breathing.\n",
            "    2. Immobilize the injured leg: Use a splint, sling, or other immobilizing device to prevent any further movement of the fractured bone. Be careful not to apply too much pressure on the injury site.\n",
            "    3. Provide pain relief: Administer over-the-counter pain medications like acetaminophen or ibuprofen as needed for pain management. Avoid giving aspirin, as it can interfere with blood clotting.\n",
            "    4. Seek medical help: Arrange for transportation to a healthcare facility as soon as possible. A fracture requires proper diagnosis and treatment from a medical professional.\n",
            "    5. Consider the type of fracture: Different types of leg fractures may require specific treatments, such as surgery or casting. Your healthcare provider will determine the best course of action based on the location and severity of the fracture.\n",
            "    6. Follow-up care: After being treated for a leg fracture, follow your healthcare provider's instructions for recovery. This may include physical therapy, medication, or using crutches or a walker to help you get around.\n",
            "    7. Prevent future injuries: Once you have recovered from the fracture, consider taking steps to prevent similar injuries in the future. This could include wearing appropriate hiking gear, staying aware of your surroundings, and practicing proper lifting techniques.\n"
          ]
        }
      ],
      "source": [
        "user_prompt = \"What are the necessary precautions and treatment steps for a person who has fractured their leg during a hiking trip, and what should be considered for their care and recovery?\"\n",
        "prompt = f\"{user_prompt}\\n{system_message3}\"\n",
        "response = model_response(prompt, max_tokens=max_tokens3, temperature=temperature3, top_p=top_p3, top_k=top_k3)\n",
        "print(response)"
      ]
    },
    {
      "cell_type": "markdown",
      "metadata": {
        "id": "qvVQ3KpfVO31"
      },
      "source": [
        "###Query 5, Response Version 4"
      ]
    },
    {
      "cell_type": "code",
      "execution_count": null,
      "metadata": {
        "colab": {
          "base_uri": "https://localhost:8080/"
        },
        "id": "aiT9VyCHVeTN",
        "outputId": "51abd055-7c89-4eb7-b715-0ef02f63fabd"
      },
      "outputs": [
        {
          "name": "stderr",
          "output_type": "stream",
          "text": [
            "Llama.generate: prefix-match hit\n"
          ]
        },
        {
          "name": "stdout",
          "output_type": "stream",
          "text": [
            "I. Initial Assessment and Precautions for a Fractured Leg During Hiking:\n",
            "\n",
            "   A. Safety: Ensure the safety of the injured person and any companions by securing the area if necessary.\n",
            "\n",
            "   B. Immobilization: Splint or immobilize the leg above the fracture site using a makeshift splint, such as a stick or hiking pole, and clothing or padding to prevent further injury.\n",
            "\n",
            "   C. Pain Management: Provide pain relief with over-the-counter pain medication like acetaminophen or ibuprofen if available. Be cautious about administering opioids due to potential side effects and addiction risks.\n",
            "\n",
            "   D. Transportation: Arrange for transportation back to civilization, ideally via emergency medical services (EMS) if possible. If not, consider hiking out with assistance from companions or using a stretcher if necessary.\n",
            "\n",
            "II. Treatment Steps upon Reaching Medical Care:\n",
            "\n",
            "   A. Diagnostic Imaging: X-rays will be taken to confirm the fracture location and extent.\n",
            "\n",
            "   B. Reduction: If the bone is displaced (out of alignment), it may need to be realigned (reduced) before immobilization. This procedure is typically performed by a healthcare professional under anesthesia.\n",
            "\n",
            "   C. Immobilization: A cast or brace will be applied to keep the bone in place while it heals. Crutches or a walker may also be necessary for mobility assistance.\n",
            "\n",
            "   D. Pain Management: Prescription pain medication may be provided as needed for managing severe pain. Physical therapy and exercises may also be recommended to help maintain muscle strength and flexibility during recovery.\n",
            "\n",
            "III. Considerations for Care and Recovery:\n",
            "\n",
            "   A. Follow-up Appointments: Regular follow-up appointments with the healthcare provider will be necessary to monitor progress, adjust the cast or brace as needed, and ensure proper healing.\n",
            "\n",
            "   B. Activity Restrictions: Avoid putting weight on the injured leg until it has healed completely. This may include avoiding driving, climbing stairs, or engaging in high-impact activities for an extended period.\n",
            "\n",
            "   C. Nutrition: Proper nutrition is essential for bone healing. Adequate intake of calcium, vitamin D, and protein can help support the healing process.\n",
            "\n",
            "   D. Rehabilitation: Physical therapy may be required to regain strength, flexibility, and range of motion in the injured leg. This can help prevent long-term complications like muscle atrophy or joint stiffness.\n",
            "\n",
            "   E. Emotional Support: Recovering from a fractured leg can be emotionally challenging. Encourage the person to stay positive, seek support from friends and family, and maintain an active mindset towards recovery.\n"
          ]
        }
      ],
      "source": [
        "user_prompt = \"What are the necessary precautions and treatment steps for a person who has fractured their leg during a hiking trip, and what should be considered for their care and recovery?\"\n",
        "prompt = f\"{user_prompt}\\n{system_message4}\"\n",
        "response = model_response(prompt, max_tokens=max_tokens4, temperature=temperature4, top_p=top_p4, top_k=top_k4)\n",
        "print(response)"
      ]
    },
    {
      "cell_type": "markdown",
      "metadata": {
        "id": "3pOcxXLkVPcz"
      },
      "source": [
        "###Query 5, Response Version 5"
      ]
    },
    {
      "cell_type": "code",
      "execution_count": null,
      "metadata": {
        "colab": {
          "base_uri": "https://localhost:8080/"
        },
        "id": "xaIjkwgdVext",
        "outputId": "ab59213d-3f12-43f0-ff4c-5b9abaeab012"
      },
      "outputs": [
        {
          "name": "stderr",
          "output_type": "stream",
          "text": [
            "Llama.generate: prefix-match hit\n"
          ]
        },
        {
          "name": "stdout",
          "output_type": "stream",
          "text": [
            "I. Initial Assessment and Precautions for a Fractured Leg During Hiking:\n",
            "\n",
            "   A. Evaluate the severity of the injury: Assess the degree of pain, swelling, deformity, and inability to bear weight on the affected leg.\n",
            "      - If there are signs of an open fracture (skin penetration), severe bleeding, or nerve damage, call for emergency medical help immediately.\n",
            "\n",
            "   B. Provide first aid: Apply a sterile dressing over any wounds, immobilize the leg using a splint or sling, and control bleeding if necessary.\n",
            "      - Avoid moving the injured limb excessively to prevent further damage.\n",
            "\n",
            "   C. Administer pain relief: Use over-the-counter pain medications like acetaminophen or ibuprofen as directed by label instructions.\n",
            "      - Be cautious with narcotic pain relievers, as they may impair judgment and coordination needed for hiking safely.\n",
            "\n",
            "II. Treatment and Recovery Considerations:\n",
            "\n",
            "   A. Medical consultation: Seek professional medical advice to determine the type and extent of the fracture, which will guide further treatment.\n",
            "      - X-rays are typically used to diagnose leg fractures.\n",
            "\n",
            "   B. Immobilization: Your healthcare provider may recommend using a cast or brace to keep the bone in place while it heals.\n",
            "      - Crutches or a walker may be necessary for mobility assistance during recovery.\n",
            "\n",
            "   C. Pain management: Prescription pain medications, physical therapy exercises, and other non-pharmacologic methods (e.g., heat/cold packs) can help manage pain.\n",
            "\n",
            "   D. Rehabilitation: Physical therapy sessions will be crucial for restoring muscle strength, flexibility, and range of motion in the affected leg.\n",
            "      - Regular exercise and proper nutrition are essential to promote healing and prevent complications like blood clots.\n",
            "\n",
            "III. Preventing Future Fractures During Hiking:\n",
            "\n",
            "   A. Proper footwear: Wear hiking boots or shoes with adequate support, traction, and cushioning to protect against falls and uneven terrain.\n",
            "      - Ensure a good fit and replace worn-out footwear regularly.\n",
            "\n",
            "   B. Trail awareness: Stay alert for potential hazards like loose rocks, tree roots, and slippery surfaces.\n",
            "      - Use trekking poles for added stability and balance.\n",
            "\n",
            "   C. Proper lifting techniques: When carrying heavy loads, use proper lifting techniques to avoid straining muscles or joints.\n",
            "      - Keep the load close to your body and distribute weight evenly between both shoulders.\n",
            "\n",
            "   D. Stay hydrated and nourished: Maintain adequate energy levels by consuming a balanced diet and staying well-hydrated throughout your hike.\n",
            "      - Dehydration and fatigue can impair judgment and coordination, increasing the risk of falls and injuries.\n"
          ]
        }
      ],
      "source": [
        "user_prompt = \"What are the necessary precautions and treatment steps for a person who has fractured their leg during a hiking trip, and what should be considered for their care and recovery?\"\n",
        "prompt = f\"{user_prompt}\\n{system_message5}\"\n",
        "response = model_response(prompt, max_tokens=max_tokens5, temperature=temperature5, top_p=top_p5, top_k=top_k5)\n",
        "print(response)"
      ]
    },
    {
      "cell_type": "markdown",
      "metadata": {
        "id": "_9VaNNfuXj1V"
      },
      "source": [
        "###Observations\n",
        "- Versions 3, 4, and 5 return similar responses, addressing the query with a clear structure.\n",
        "- Version 4, which uses a higher temperature value, shows noticeable changes in the terminology used for procedures. This results in lower readability.\n",
        "- The lower maximum token limit in Version 3 (900) produces a more concise response, making it easier to read, but at the expense of omitting potentially relevant details.\n",
        "- Considering these factors, Version 5 will be selected as the final version."
      ]
    },
    {
      "cell_type": "markdown",
      "metadata": {
        "id": "t_O1PGdNO2M9"
      },
      "source": [
        "## Data Preparation for RAG"
      ]
    },
    {
      "cell_type": "markdown",
      "metadata": {
        "id": "uTpWESc53dL9"
      },
      "source": [
        "### Loading the Data"
      ]
    },
    {
      "cell_type": "code",
      "execution_count": null,
      "metadata": {
        "colab": {
          "base_uri": "https://localhost:8080/"
        },
        "id": "dA3XQMWmQLJp",
        "outputId": "83664c8c-7415-46b9-ef7b-54ad44721f1e"
      },
      "outputs": [
        {
          "name": "stdout",
          "output_type": "stream",
          "text": [
            "Mounted at /content/drive\n"
          ]
        }
      ],
      "source": [
        "from google.colab import drive\n",
        "drive.mount('/content/drive')"
      ]
    },
    {
      "cell_type": "code",
      "execution_count": null,
      "metadata": {
        "id": "L3oLsuzCUaci"
      },
      "outputs": [],
      "source": [
        "pdf_file = \"/content/drive/MyDrive/PGP_AIML/NLP/medical_assistant/medical_diagnosis_manual.pdf\""
      ]
    },
    {
      "cell_type": "code",
      "execution_count": null,
      "metadata": {
        "id": "xwD4mMr6U6X0"
      },
      "outputs": [],
      "source": [
        "pdf_loader = PyPDFLoader(pdf_file)"
      ]
    },
    {
      "cell_type": "code",
      "execution_count": null,
      "metadata": {
        "id": "ybj2cEnzRSXq"
      },
      "outputs": [],
      "source": [
        "manual = pdf_loader.load()"
      ]
    },
    {
      "cell_type": "markdown",
      "metadata": {
        "id": "ffj0ca3eZT4u"
      },
      "source": [
        "### Data Overview"
      ]
    },
    {
      "cell_type": "markdown",
      "metadata": {
        "id": "f9weTDzMxRRS"
      },
      "source": [
        "#### Checking the first 5 pages"
      ]
    },
    {
      "cell_type": "code",
      "execution_count": null,
      "metadata": {
        "colab": {
          "base_uri": "https://localhost:8080/"
        },
        "id": "MSEiL--bRTZT",
        "outputId": "90b7fce1-0945-407a-aba2-b12e4e99b63d"
      },
      "outputs": [
        {
          "name": "stdout",
          "output_type": "stream",
          "text": [
            "Page Number : 1\n",
            "ricrodriguezrj@gmail.com\n",
            "WKIQY24LB5\n",
            "This file is meant for personal use by ricrodriguezrj@gmail.com only.\n",
            "Sharing or publishing the contents in part or full is liable for legal action.\n",
            "\n",
            "Page Number : 2\n",
            "ricrodriguezrj@gmail.com\n",
            "WKIQY24LB5\n",
            "This file is meant for personal use by ricrodriguezrj@gmail.com only.\n",
            "Sharing or publishing the contents in part or full is liable for legal action.\n",
            "\n",
            "Page Number : 3\n",
            "Table of Contents\n",
            "1\n",
            "Front  \n",
            "  ................................................................................................................................................................................................................\n",
            "1\n",
            "Cover  \n",
            "  .......................................................................................................................................................................................................\n",
            "2\n",
            "Front Matter  \n",
            "  ...........................................................................................................................................................................................\n",
            "53\n",
            "1 - Nutritional Disorders  \n",
            "  ...............................................................................................................................................................\n",
            "53\n",
            "Chapter 1. Nutrition: General Considerations  \n",
            "  .....................................................................................................................\n",
            "59\n",
            "Chapter 2. Undernutrition  \n",
            "  .............................................................................................................................................................\n",
            "69\n",
            "Chapter 3. Nutritional Support  \n",
            "  ...................................................................................................................................................\n",
            "76\n",
            "Chapter 4. Vitamin Deficiency, Dependency & Toxicity  \n",
            "  ..................................................................................................\n",
            "99\n",
            "Chapter 5. Mineral Deficiency & Toxicity  \n",
            "  ..............................................................................................................................\n",
            "108\n",
            "Chapter 6. Obesity & the Metabolic Syndrome  \n",
            "  ...............................................................................................................\n",
            "120\n",
            "2 - Gastrointestinal Disorders  \n",
            "  ..............................................................................................................................................\n",
            "120\n",
            "Chapter 7. Approach to the Patient With Upper GI Complaints  \n",
            "  ...............................................................................\n",
            "132\n",
            "Chapter 8. Approach to the Patient With Lower GI Complaints  \n",
            "  ...............................................................................\n",
            "143\n",
            "Chapter 9. Diagnostic & Therapeutic GI Procedures  \n",
            "  ....................................................................................................\n",
            "150\n",
            "Chapter 10. GI Bleeding  \n",
            "  ............................................................................................................................................................\n",
            "158\n",
            "Chapter 11. Acute Abdomen & Surgical Gastroenterology  \n",
            "  .........................................................................................\n",
            "172\n",
            "Chapter 12. Esophageal & Swallowing Disorders  \n",
            "  ..........................................................................................................\n",
            "183\n",
            "Chapter 13. Gastritis & Peptic Ulcer Disease  \n",
            "  ..................................................................................................................\n",
            "196\n",
            "Chapter 14. Bezoars & Foreign Bodies  \n",
            "  ..............................................................................................................................\n",
            "199\n",
            "Chapter 15. Pancreatitis  \n",
            "  ............................................................................................................................................................\n",
            "206\n",
            "Chapter 16. Gastroenteritis  \n",
            "  ......................................................................................................................................................\n",
            "213\n",
            "Chapter 17. Malabsorption Syndromes  \n",
            "  ..............................................................................................................................\n",
            "225\n",
            "Chapter 18. Irritable Bowel Syndrome  \n",
            "  ................................................................................................................................\n",
            "229\n",
            "Chapter 19. Inflammatory Bowel Disease  \n",
            "  .........................................................................................................................\n",
            "241\n",
            "Chapter 20. Diverticular Disease  \n",
            "  ...........................................................................................................................................\n",
            "246\n",
            "Chapter 21. Anorectal Disorders  \n",
            "  ............................................................................................................................................\n",
            "254\n",
            "Chapter 22. Tumors of the GI Tract  \n",
            "  ......................................................................................................................................\n",
            "275\n",
            "3 - Hepatic & Biliary Disorders  \n",
            "  ............................................................................................................................................\n",
            "275\n",
            "Chapter 23. Approach to the Patient With Liver Disease  \n",
            "  ...........................................................................................\n",
            "294\n",
            "Chapter 24. Testing for Hepatic & Biliary Disorders  \n",
            "  ......................................................................................................\n",
            "305\n",
            "Chapter 25. Drugs & the Liver  \n",
            "  ................................................................................................................................................\n",
            "308\n",
            "Chapter 26. Alcoholic Liver Disease  \n",
            "  ....................................................................................................................................\n",
            "314\n",
            "Chapter 27. Fibrosis & Cirrhosis  \n",
            "  ............................................................................................................................................\n",
            "322\n",
            "Chapter 28. Hepatitis  \n",
            "  ..................................................................................................................................................................\n",
            "333\n",
            "Chapter 29. Vascular Disorders of the Liver  \n",
            "  .....................................................................................................................\n",
            "341\n",
            "Chapter 30. Liver Masses & Granulomas  \n",
            "  ..........................................................................................................................\n",
            "348\n",
            "Chapter 31. Gallbladder & Bile Duct Disorders  \n",
            "  ...............................................................................................................\n",
            "362\n",
            "4 - Musculoskeletal & Connective Tissue Disorders  \n",
            "  .........................................................................................\n",
            "362\n",
            "Chapter 32. Approach to the Patient With Joint Disease  \n",
            "  ............................................................................................\n",
            "373\n",
            "Chapter 33. Autoimmune Rheumatic Disorders  \n",
            "  ..............................................................................................................\n",
            "391\n",
            "Chapter 34. Vasculitis  \n",
            "  .................................................................................................................................................................\n",
            "416\n",
            "Chapter 35. Joint Disorders  \n",
            "  .....................................................................................................................................................\n",
            "435\n",
            "Chapter 36. Crystal-Induced Arthritides  \n",
            "  ..............................................................................................................................\n",
            "443\n",
            "Chapter 37. Osteoporosis  \n",
            "  .........................................................................................................................................................\n",
            "448\n",
            "Chapter 38. Paget's Disease of Bone  \n",
            "  ..................................................................................................................................\n",
            "451\n",
            "Chapter 39. Osteonecrosis  \n",
            "  .......................................................................................................................................................\n",
            "455\n",
            "Chapter 40. Infections of Joints & Bones  \n",
            "  ...........................................................................................................................\n",
            "463\n",
            "Chapter 41. Bursa, Muscle & Tendon Disorders  \n",
            "  .............................................................................................................\n",
            "470\n",
            "Chapter 42. Neck & Back Pain  \n",
            "  ...............................................................................................................................................\n",
            "481\n",
            "Chapter 43. Hand Disorders  \n",
            "  ....................................................................................................................................................\n",
            "ricrodriguezrj@gmail.com\n",
            "WKIQY24LB5\n",
            "This file is meant for personal use by ricrodriguezrj@gmail.com only.\n",
            "Sharing or publishing the contents in part or full is liable for legal action.\n",
            "\n",
            "Page Number : 4\n",
            "491 Chapter 44. Foot & Ankle Disorders    ..................................................................................................................................... 502 Chapter 45. Tumors of Bones & Joints    ...............................................................................................................................\n",
            "5105 - Ear, Nose, Throat & Dental Disorders  \n",
            "  ..................................................................................................................\n",
            "510\n",
            "Chapter 46. Approach to the Patient With Ear Problems  \n",
            "  ...........................................................................................\n",
            "523\n",
            "Chapter 47. Hearing Loss  \n",
            "  .........................................................................................................................................................\n",
            "535\n",
            "Chapter 48. Inner Ear Disorders  \n",
            "  ............................................................................................................................................\n",
            "542\n",
            "Chapter 49. Middle Ear & Tympanic Membrane Disorders  \n",
            "  ........................................................................................\n",
            "550\n",
            "Chapter 50. External Ear Disorders  \n",
            "  .....................................................................................................................................\n",
            "554\n",
            "Chapter 51. Approach to the Patient With Nasal & Pharyngeal Symptoms  \n",
            "  .......................................................\n",
            "567\n",
            "Chapter 52. Oral & Pharyngeal Disorders  \n",
            "  .........................................................................................................................\n",
            "578\n",
            "Chapter 53. Nose & Paranasal Sinus Disorders  \n",
            "  .............................................................................................................\n",
            "584\n",
            "Chapter 54. Laryngeal Disorders  \n",
            "  ...........................................................................................................................................\n",
            "590\n",
            "Chapter 55. Tumors of the Head & Neck  \n",
            "  ...........................................................................................................................\n",
            "600\n",
            "Chapter 56. Approach to Dental & Oral Symptoms  \n",
            "  .......................................................................................................\n",
            "619\n",
            "Chapter 57. Common Dental Disorders  \n",
            "  .............................................................................................................................\n",
            "629\n",
            "Chapter 58. Dental Emergencies  \n",
            "  ..........................................................................................................................................\n",
            "635\n",
            "Chapter 59. Temporomandibular Disorders  \n",
            "  ......................................................................................................................\n",
            "641\n",
            "6 - Eye Disorders  \n",
            "  ............................................................................................................................................................................\n",
            "641\n",
            "Chapter 60. Approach to the Ophthalmologic Patient  \n",
            "  ..................................................................................................\n",
            "669\n",
            "Chapter 61. Refractive Error  \n",
            "  ...................................................................................................................................................\n",
            "674\n",
            "Chapter 62. Eyelid & Lacrimal Disorders  \n",
            "  ...........................................................................................................................\n",
            "680\n",
            "Chapter 63. Conjunctival & Scleral Disorders  \n",
            "  .................................................................................................................\n",
            "690\n",
            "Chapter 64. Corneal Disorders  \n",
            "  ...............................................................................................................................................\n",
            "703\n",
            "Chapter 65. Glaucoma  \n",
            "  ...............................................................................................................................................................\n",
            "710\n",
            "Chapter 66. Cataract  \n",
            "  ...................................................................................................................................................................\n",
            "713\n",
            "Chapter 67. Uveitis  \n",
            "  ......................................................................................................................................................................\n",
            "719\n",
            "Chapter 68. Retinal Disorders  \n",
            "  .................................................................................................................................................\n",
            "731\n",
            "Chapter 69. Optic Nerve Disorders  \n",
            "  ......................................................................................................................................\n",
            "737\n",
            "Chapter 70. Orbital Diseases  \n",
            "  ..................................................................................................................................................\n",
            "742\n",
            "7 - Dermatologic Disorders  \n",
            "  ....................................................................................................................................................\n",
            "742\n",
            "Chapter 71. Approach to the Dermatologic Patient  \n",
            "  .......................................................................................................\n",
            "755\n",
            "Chapter 72. Principles of Topical Dermatologic Therapy  \n",
            "  ............................................................................................\n",
            "760\n",
            "Chapter 73. Acne & Related Disorders  \n",
            "  ...............................................................................................................................\n",
            "766\n",
            "Chapter 74. Bullous Diseases  \n",
            "  .................................................................................................................................................\n",
            "771\n",
            "Chapter 75. Cornification Disorders  \n",
            "  .....................................................................................................................................\n",
            "775\n",
            "Chapter 76. Dermatitis  \n",
            "  ...............................................................................................................................................................\n",
            "786\n",
            "Chapter 77. Reactions to Sunlight  \n",
            "  ........................................................................................................................................\n",
            "791\n",
            "Chapter 78. Psoriasis & Scaling Diseases  \n",
            "  ........................................................................................................................\n",
            "799\n",
            "Chapter 79. Hypersensitivity & Inflammatory Disorders  \n",
            "  .............................................................................................\n",
            "808\n",
            "Chapter 80. Sweating Disorders  \n",
            "  ............................................................................................................................................\n",
            "811\n",
            "Chapter 81. Bacterial Skin Infections  \n",
            "  ...................................................................................................................................\n",
            "822\n",
            "Chapter 82. Fungal Skin Infections  \n",
            "  ......................................................................................................................................\n",
            "831\n",
            "Chapter 83. Parasitic Skin Infections  \n",
            "  ...................................................................................................................................\n",
            "836\n",
            "Chapter 84. Viral Skin Diseases  \n",
            "  ............................................................................................................................................\n",
            "841\n",
            "Chapter 85. Pigmentation Disorders  \n",
            "  ....................................................................................................................................\n",
            "846\n",
            "Chapter 86. Hair Disorders  \n",
            "  .......................................................................................................................................................\n",
            "855\n",
            "Chapter 87. Nail Disorders  \n",
            "  .......................................................................................................................................................\n",
            "861\n",
            "Chapter 88. Pressure Ulcers  \n",
            "  ...................................................................................................................................................\n",
            "867\n",
            "Chapter 89. Benign Tumors  \n",
            "  .....................................................................................................................................................\n",
            "874\n",
            "Chapter 90. Cancers of the Skin  \n",
            "  ............................................................................................................................................\n",
            "882\n",
            "8 - Endocrine & Metabolic Disorders  \n",
            "  .............................................................................................................................\n",
            "882\n",
            "Chapter 91. Principles of Endocrinology  \n",
            "  ............................................................................................................................\n",
            "887\n",
            "Chapter 92. Pituitary Disorders  \n",
            "  ..............................................................................................................................................\n",
            "901\n",
            "Chapter 93. Thyroid Disorders  \n",
            "  ................................................................................................................................................\n",
            "ricrodriguezrj@gmail.com\n",
            "WKIQY24LB5\n",
            "This file is meant for personal use by ricrodriguezrj@gmail.com only.\n",
            "Sharing or publishing the contents in part or full is liable for legal action.\n",
            "\n",
            "Page Number : 5\n",
            "921 Chapter 94. Adrenal Disorders    ................................................................................................................................................ 936 Chapter 95. Polyglandular Deficiency Syndromes    ........................................................................................................\n",
            "939\n",
            "Chapter 96. Porphyrias  \n",
            "  ..............................................................................................................................................................\n",
            "949\n",
            "Chapter 97. Fluid & Electrolyte Metabolism  \n",
            "  .....................................................................................................................\n",
            "987\n",
            "Chapter 98. Acid-Base Regulation & Disorders  \n",
            "  ..............................................................................................................\n",
            "1001\n",
            "Chapter 99. Diabetes Mellitus & Disorders of Carbohydrate Metabolism  \n",
            "  ........................................................\n",
            "1024\n",
            "Chapter 100. Lipid Disorders  \n",
            "  ................................................................................................................................................\n",
            "1034\n",
            "Chapter 101. Amyloidosis  \n",
            "  ......................................................................................................................................................\n",
            "1037\n",
            "Chapter 102. Carcinoid Tumors  \n",
            "  ..........................................................................................................................................\n",
            "1040\n",
            "Chapter 103. Multiple Endocrine Neoplasia Syndromes  \n",
            "  .........................................................................................\n",
            "1046\n",
            "9 - Hematology & Oncology  \n",
            "  ...............................................................................................................................................\n",
            "1046\n",
            "Chapter 104. Approach to the Patient With Anemia  \n",
            "  ..................................................................................................\n",
            "1050\n",
            "Chapter 105. Anemias Caused by Deficient Erythropoiesis  \n",
            "  ...................................................................................\n",
            "1061\n",
            "Chapter 106. Anemias Caused by Hemolysis  \n",
            "  ...............................................................................................................\n",
            "1078\n",
            "Chapter 107. Neutropenia & Lymphocytopenia  \n",
            "  ...........................................................................................................\n",
            "1086\n",
            "Chapter 108. Thrombocytopenia & Platelet Dysfunction  \n",
            "  .........................................................................................\n",
            "1097\n",
            "Chapter 109. Hemostasis  \n",
            "  ......................................................................................................................................................\n",
            "1104\n",
            "Chapter 110. Thrombotic Disorders  \n",
            "  ...................................................................................................................................\n",
            "1107\n",
            "Chapter 111. Coagulation Disorders  \n",
            "  ..................................................................................................................................\n",
            "1113\n",
            "Chapter 112. Bleeding Due to Abnormal Blood Vessels  \n",
            "  ...........................................................................................\n",
            "1116\n",
            "Chapter 113. Spleen Disorders  \n",
            "  ............................................................................................................................................\n",
            "1120\n",
            "Chapter 114. Eosinophilic Disorders  \n",
            "  .................................................................................................................................\n",
            "1126\n",
            "Chapter 115. Histiocytic Syndromes  \n",
            "  .................................................................................................................................\n",
            "1131\n",
            "Chapter 116. Myeloproliferative Disorders  \n",
            "  .....................................................................................................................\n",
            "1141\n",
            "Chapter 117. Leukemias  \n",
            "  .........................................................................................................................................................\n",
            "1154\n",
            "Chapter 118. Lymphomas  \n",
            "  ......................................................................................................................................................\n",
            "1164\n",
            "Chapter 119. Plasma Cell Disorders  \n",
            "  .................................................................................................................................\n",
            "1172\n",
            "Chapter 120. Iron Overload  \n",
            "  ...................................................................................................................................................\n",
            "1177\n",
            "Chapter 121. Transfusion Medicine  \n",
            "  ...................................................................................................................................\n",
            "1186\n",
            "Chapter 122. Overview of Cancer  \n",
            "  ......................................................................................................................................\n",
            "1198\n",
            "Chapter 123. Tumor Immunology  \n",
            "  .......................................................................................................................................\n",
            "1204\n",
            "Chapter 124. Principles of Cancer Therapy  \n",
            "  ...................................................................................................................\n",
            "1215\n",
            "10 - Immunology; Allergic Disorders  \n",
            "  ...........................................................................................................................\n",
            "1215\n",
            "Chapter 125. Biology of the Immune System  \n",
            "  ...............................................................................................................\n",
            "1227\n",
            "Chapter 126. Immunodeficiency Disorders  \n",
            "  ....................................................................................................................\n",
            "1243\n",
            "Chapter 127. Allergic & Other Hypersensitivity Disorders  \n",
            "  .......................................................................................\n",
            "1263\n",
            "Chapter 128. Transplantation  \n",
            "  ...............................................................................................................................................\n",
            "1281\n",
            "11 - Infectious Diseases  \n",
            "  ........................................................................................................................................................\n",
            "1281\n",
            "Chapter 129. Biology of Infectious Disease  \n",
            "  ...................................................................................................................\n",
            "1300\n",
            "Chapter 130. Laboratory Diagnosis of Infectious Disease  \n",
            "  ......................................................................................\n",
            "1306\n",
            "Chapter 131. Immunization  \n",
            "  ...................................................................................................................................................\n",
            "1313\n",
            "Chapter 132. Bacteria & Antibacterial Drugs  \n",
            "  .................................................................................................................\n",
            "1353\n",
            "Chapter 133. Gram-Positive Cocci  \n",
            "  ....................................................................................................................................\n",
            "1366\n",
            "Chapter 134. Gram-Positive Bacilli  \n",
            "  ...................................................................................................................................\n",
            "1376\n",
            "Chapter 135. Gram-Negative Bacilli  \n",
            "  .................................................................................................................................\n",
            "1405\n",
            "Chapter 136. Spirochetes  \n",
            "  ......................................................................................................................................................\n",
            "1413\n",
            "Chapter 137. Neisseriaceae  \n",
            "  .................................................................................................................................................\n",
            "1419\n",
            "Chapter 138. Chlamydia & Mycoplasmas  \n",
            "  ......................................................................................................................\n",
            "1421\n",
            "Chapter 139. Rickettsiae & Related Organisms  \n",
            "  ..........................................................................................................\n",
            "1431\n",
            "Chapter 140. Anaerobic Bacteria  \n",
            "  ........................................................................................................................................\n",
            "1450\n",
            "Chapter 141. Mycobacteria  \n",
            "  ...................................................................................................................................................\n",
            "1470\n",
            "Chapter 142. Fungi  \n",
            "  ...................................................................................................................................................................\n",
            "1493\n",
            "Chapter 143. Approach to Parasitic Infections  \n",
            "  .............................................................................................................\n",
            "1496\n",
            "Chapter 144. Nematodes (Roundworms)  \n",
            "  .......................................................................................................................\n",
            "ricrodriguezrj@gmail.com\n",
            "WKIQY24LB5\n",
            "This file is meant for personal use by ricrodriguezrj@gmail.com only.\n",
            "Sharing or publishing the contents in part or full is liable for legal action.\n",
            "\n"
          ]
        }
      ],
      "source": [
        "for i in range(5):\n",
        "    print(f\"Page Number : {i+1}\",end=\"\\n\")\n",
        "    print(manual[i].page_content,end=\"\\n\")"
      ]
    },
    {
      "cell_type": "markdown",
      "metadata": {
        "id": "7-wNNalNxPKT"
      },
      "source": [
        "#### Checking the number of pages"
      ]
    },
    {
      "cell_type": "code",
      "execution_count": null,
      "metadata": {
        "colab": {
          "base_uri": "https://localhost:8080/"
        },
        "id": "-NuC-6SNRT7K",
        "outputId": "8516ef93-5e0b-445f-bf0f-2794155f7094"
      },
      "outputs": [
        {
          "data": {
            "text/plain": [
              "4114"
            ]
          },
          "execution_count": 41,
          "metadata": {},
          "output_type": "execute_result"
        }
      ],
      "source": [
        "len(manual)"
      ]
    },
    {
      "cell_type": "markdown",
      "metadata": {
        "id": "LECMxTH-zB-R"
      },
      "source": [
        "### Data Chunking"
      ]
    },
    {
      "cell_type": "markdown",
      "metadata": {
        "id": "IgzeU_DxmIR9"
      },
      "source": [
        "###Chunking Version 1"
      ]
    },
    {
      "cell_type": "code",
      "execution_count": null,
      "metadata": {
        "id": "ir9Zi8rKRUmG"
      },
      "outputs": [],
      "source": [
        "text_splitter = RecursiveCharacterTextSplitter.from_tiktoken_encoder(\n",
        "    encoding_name='cl100k_base',\n",
        "    chunk_size=512,\n",
        "    chunk_overlap= 50\n",
        ")"
      ]
    },
    {
      "cell_type": "code",
      "execution_count": null,
      "metadata": {
        "id": "qh0vljAC61ig"
      },
      "outputs": [],
      "source": [
        "document_chunks = pdf_loader.load_and_split(text_splitter)"
      ]
    },
    {
      "cell_type": "markdown",
      "metadata": {
        "id": "BvHVejcWz0Bl"
      },
      "source": [
        "### Embedding"
      ]
    },
    {
      "cell_type": "code",
      "execution_count": null,
      "metadata": {
        "colab": {
          "base_uri": "https://localhost:8080/",
          "height": 386,
          "referenced_widgets": [
            "64a08072df2647959fadeb7aa747c7b7",
            "43ec1f91c822434abc4959b719514e29",
            "6552cb88d5f6420a9b7e82883be1d52e",
            "8f5af5cff10e4d6488379888a0bec791",
            "75acc28190c944b0b4ff8013bca0ec90",
            "96423fb3db45490a85bc8f28e4139b34",
            "5ce7756d3023466791ec58f2d0729cfe",
            "c9d4b204a8a3465bbe2dc65b5fd03e6f",
            "137b75d50b014f9897ebb76ed493f680",
            "692919b84acd4ac586c28baf68f6bf30",
            "1122f8add6764c29a18d158e50d7edfb",
            "82f84ff1a2bc446290ff4c8d81dbb6c3",
            "3db3a56a24564453891308fd2c4a96f7",
            "91ddaee6a61b4f9faa421774d99761a2",
            "2e02d7af72944cd8810773da52bd070b",
            "fb346bbad32e4f28867d46d29e60fab5",
            "d1d55223c5884dcb9ae372526a499e74",
            "abf1105b62e94c30bc3c005fe9060245",
            "f355783eee9d4e9b94d722c7646f766b",
            "c74d00296b68441084e0cb35cbe4bac8",
            "f78af067699448509be41acabade78a2",
            "a681662aa9d041e790d0eb4ea6b3755e",
            "714309de72d34e7dbfcb51c167af29a6",
            "7c1fddf43638418dbd51b59cdb0ff9c5",
            "0db2540d3dfe4439a03257fd3a87d5db",
            "4bd7a8b73b5e425bb2ea7ceef14c2203",
            "8a82c998617745eba992be97e8e0d999",
            "038b29e3bb8a4d96b458b897c137c870",
            "8200ac1df7a046f5aca9975a9fcaf934",
            "f21ae4efd454446297899fdabac77420",
            "3689e2481a514a378c3f52d8649df638",
            "cdde7b1ae7634b809afc9b50226fcc5d",
            "2779db9e081646c687b7cd319fb7c6f1",
            "b4caceb6071a4db19b5b3cfd01866696",
            "e7cd83f3a4184aa38c08e2363298d312",
            "625a1e579ded4b94b17f1c98f6d661ad",
            "2bdd098971e544da8156d2936e44df8d",
            "fe5229e58b564e4790013524c0fbd3e1",
            "08dfc67a96e848afbdbaaefeead75c06",
            "b4f6b216dead43a68020b121158528b5",
            "f6f282ac026b40a9aa756ca91e9fa10a",
            "115bd37891a84308878d94c59d8b2859",
            "fa421ecebaac410685f2d32dabfb2297",
            "62f8a410ba914d9a8198e78571fed295",
            "d005f6195ace478e9c446e6ee3788062",
            "e114b9bf6ea643feba5a2df4cca9d2ec",
            "a9960a11266d4ebf8cf1719b1fcd69f5",
            "1fbc9896c78c4f33a4176044973023e6",
            "33dde1d046da4ad49bb75efe62460b29",
            "5f6ad6c9b18e46389be3e556948da560",
            "cd9a7ccbfee84a878c964e6c85805c35",
            "33bf6f28a7854c2d920181e7eaec778d",
            "3457e0c56f994dfe843504547805583b",
            "4eaed797b6fa45d7adb489bc9a8f103c",
            "df6d7430cd854519a6db9c60937f2655",
            "39e7a4ee347b45889c1ae1718558b952",
            "42ebef2474394cb6ab2f03b29b0f61d4",
            "7bf77d41df434f568a23ddbb4337f33f",
            "6224bc1645274078b9ad883bce1a7760",
            "335d7dc657aa43079b003c7ddc58893b",
            "2ff70addc0424ea29dbfb7d8cec3d819",
            "a925663f1ff8441b8f9834f0d2937783",
            "a9771fd0b94f4416aa9c5bbfc58705fc",
            "6b6d2553aa5041f5a1289ae4d15c4bf5",
            "705199d9d85d4c87a1de13cfc6dadbf5",
            "3a46d4175bf6449fb05a8f32d23c41a7",
            "aeb4c22f72b24b168d46e593b02a85cd",
            "7e43c1c5fdab4b2385b380a58aa81b7b",
            "47c896d98e134ca698d8b6ce6e2a5e25",
            "c0b040121ee14d4a8900304199d5e15e",
            "f04caf6d005c4651af7c1a7a8ca5aa8f",
            "e03651ca96304c339cf7e8018be873f9",
            "0b69e485491540b981e19b51a02c8c39",
            "a8ca61306acf488d8991a0376decfd49",
            "61619a458c99427587298ad73a13693f",
            "05f5d9bba4124d1aa3ce44558222ca01",
            "68db872da3f2464e850750e4fabd1dee",
            "dde019b1319046299a08240bd9d5c8d2",
            "9359a7b9ef794bb195e3b8008a9ac9ce",
            "9eba36b15660446c98d5ec3e1189b45d",
            "2d623fb8764c4095b96433e71d3cf316",
            "23ad48c4b27042368c609d6599e1bbe3",
            "4df03cf500864f41985d0a98c12f83df",
            "8fadf3d07e604960b75c7ab2579b058f",
            "76f2d888e9ee4d63865995376f146a99",
            "fb2be571ef944676ad12ea6b3d402ee5",
            "a09af00d6246435bb3d0b4b482483726",
            "06b7135ee147470fbf1079a4cf4ae935",
            "813c0f96a92f4f04946fa824342274ff",
            "c5387e1df47644af884dd90c5902ce14",
            "d61453a3654e4433be3b3bc6ea244427",
            "6ddf6ec83c774d77888c36cbe319d812",
            "57ebf98c53c545bc94dd550dd7b34b96",
            "0258a648df8e4b62854e61ac82a81904",
            "19b24182bca24554919fc3b39ce26ad7",
            "d5e43e9f49fa4696b6c5e823e5043555",
            "81ee09198f524a15b6345de440be354f",
            "a86389a58e924d8fbc4c31437e194e7d",
            "2228cdc457be4780a6447bcdfaa96e09",
            "9d5311cebc4449808dd395f496e62c5e",
            "65cf0552c1bd4aec81dccb016013be69",
            "3102f7d640224e909308b7acfac28e7c",
            "d4b959e83bf14b78a6ada22a8d9807ea",
            "27f00a584d8b4c46b3af7e46797bdb9b",
            "ab69151c5d044060b00b386722c9aa96",
            "7a23e195d6a646979bb18fa5beb9c200",
            "29cdb7a3b8b74cb4b090a3d886214a85",
            "2590fe0ecb7e44f99ddc9703e7aa075b",
            "98042f48046c40fa805fbe1096acfc3a",
            "52968aa54ff740008a1b79f733075d9d",
            "0c9a97c683af476ab0893c904ce6886b",
            "dd444ba84b4a45699aaba5f2102afb82",
            "ca86857b55774b3da86f64e09e19951a",
            "b770c44533eb44c382200d91cbe3f38e",
            "3264ac54c46a4024ad3871b9db2a9ea1",
            "8c277aeb6c4742c3b8852b95eb8a209b",
            "9484636d9fda46c1bf56f2d4a4ff38e3",
            "c6bc0d26f8c04d0ea8eee2d72338333f",
            "0b0aa70d0e934cb79840c3a67cb39989",
            "d9e718a91dad4d49b094869f0e8e9c6e",
            "b7c349a22c20429183685bdd341dc7a2"
          ]
        },
        "id": "R3CAgoUeRVLa",
        "outputId": "2f41a8df-b04d-4569-c25c-1abe95351bd4"
      },
      "outputs": [
        {
          "name": "stderr",
          "output_type": "stream",
          "text": [
            "The cache for model files in Transformers v4.22.0 has been updated. Migrating your old cache. This is a one-time only operation. You can interrupt this and resume the migration later on by calling `transformers.utils.move_cache()`.\n"
          ]
        },
        {
          "data": {
            "application/vnd.jupyter.widget-view+json": {
              "model_id": "64a08072df2647959fadeb7aa747c7b7",
              "version_major": 2,
              "version_minor": 0
            },
            "text/plain": [
              "0it [00:00, ?it/s]"
            ]
          },
          "metadata": {},
          "output_type": "display_data"
        },
        {
          "data": {
            "application/vnd.jupyter.widget-view+json": {
              "model_id": "82f84ff1a2bc446290ff4c8d81dbb6c3",
              "version_major": 2,
              "version_minor": 0
            },
            "text/plain": [
              "modules.json:   0%|          | 0.00/385 [00:00<?, ?B/s]"
            ]
          },
          "metadata": {},
          "output_type": "display_data"
        },
        {
          "data": {
            "application/vnd.jupyter.widget-view+json": {
              "model_id": "714309de72d34e7dbfcb51c167af29a6",
              "version_major": 2,
              "version_minor": 0
            },
            "text/plain": [
              "README.md: 0.00B [00:00, ?B/s]"
            ]
          },
          "metadata": {},
          "output_type": "display_data"
        },
        {
          "data": {
            "application/vnd.jupyter.widget-view+json": {
              "model_id": "b4caceb6071a4db19b5b3cfd01866696",
              "version_major": 2,
              "version_minor": 0
            },
            "text/plain": [
              "sentence_bert_config.json:   0%|          | 0.00/57.0 [00:00<?, ?B/s]"
            ]
          },
          "metadata": {},
          "output_type": "display_data"
        },
        {
          "data": {
            "application/vnd.jupyter.widget-view+json": {
              "model_id": "d005f6195ace478e9c446e6ee3788062",
              "version_major": 2,
              "version_minor": 0
            },
            "text/plain": [
              "config.json:   0%|          | 0.00/619 [00:00<?, ?B/s]"
            ]
          },
          "metadata": {},
          "output_type": "display_data"
        },
        {
          "data": {
            "application/vnd.jupyter.widget-view+json": {
              "model_id": "39e7a4ee347b45889c1ae1718558b952",
              "version_major": 2,
              "version_minor": 0
            },
            "text/plain": [
              "model.safetensors:   0%|          | 0.00/670M [00:00<?, ?B/s]"
            ]
          },
          "metadata": {},
          "output_type": "display_data"
        },
        {
          "data": {
            "application/vnd.jupyter.widget-view+json": {
              "model_id": "aeb4c22f72b24b168d46e593b02a85cd",
              "version_major": 2,
              "version_minor": 0
            },
            "text/plain": [
              "tokenizer_config.json:   0%|          | 0.00/342 [00:00<?, ?B/s]"
            ]
          },
          "metadata": {},
          "output_type": "display_data"
        },
        {
          "data": {
            "application/vnd.jupyter.widget-view+json": {
              "model_id": "dde019b1319046299a08240bd9d5c8d2",
              "version_major": 2,
              "version_minor": 0
            },
            "text/plain": [
              "vocab.txt: 0.00B [00:00, ?B/s]"
            ]
          },
          "metadata": {},
          "output_type": "display_data"
        },
        {
          "data": {
            "application/vnd.jupyter.widget-view+json": {
              "model_id": "813c0f96a92f4f04946fa824342274ff",
              "version_major": 2,
              "version_minor": 0
            },
            "text/plain": [
              "tokenizer.json: 0.00B [00:00, ?B/s]"
            ]
          },
          "metadata": {},
          "output_type": "display_data"
        },
        {
          "data": {
            "application/vnd.jupyter.widget-view+json": {
              "model_id": "9d5311cebc4449808dd395f496e62c5e",
              "version_major": 2,
              "version_minor": 0
            },
            "text/plain": [
              "special_tokens_map.json:   0%|          | 0.00/125 [00:00<?, ?B/s]"
            ]
          },
          "metadata": {},
          "output_type": "display_data"
        },
        {
          "data": {
            "application/vnd.jupyter.widget-view+json": {
              "model_id": "0c9a97c683af476ab0893c904ce6886b",
              "version_major": 2,
              "version_minor": 0
            },
            "text/plain": [
              "config.json:   0%|          | 0.00/191 [00:00<?, ?B/s]"
            ]
          },
          "metadata": {},
          "output_type": "display_data"
        }
      ],
      "source": [
        "embedding_model = SentenceTransformerEmbeddings(model_name='thenlper/gte-large')"
      ]
    },
    {
      "cell_type": "code",
      "execution_count": null,
      "metadata": {
        "id": "GcZh5ypy7OOh"
      },
      "outputs": [],
      "source": [
        "embedding_1 = embedding_model.embed_query(document_chunks[0].page_content)\n",
        "embedding_2 = embedding_model.embed_query(document_chunks[1].page_content)"
      ]
    },
    {
      "cell_type": "markdown",
      "metadata": {
        "id": "qiKCOv4X0d7B"
      },
      "source": [
        "### Vector Database"
      ]
    },
    {
      "cell_type": "code",
      "execution_count": null,
      "metadata": {
        "id": "1XpEUyQA7UZx"
      },
      "outputs": [],
      "source": [
        "out_dir = 'medical_db'\n",
        "\n",
        "if not os.path.exists(out_dir):\n",
        "  os.makedirs(out_dir)"
      ]
    },
    {
      "cell_type": "code",
      "execution_count": null,
      "metadata": {
        "colab": {
          "base_uri": "https://localhost:8080/"
        },
        "id": "GnLZ4LONBOiE",
        "outputId": "40e9cfb6-62b3-4f4d-8a1f-5de89eca9442"
      },
      "outputs": [
        {
          "name": "stderr",
          "output_type": "stream",
          "text": [
            "ERROR:chromadb.telemetry.product.posthog:Failed to send telemetry event ClientStartEvent: capture() takes 1 positional argument but 3 were given\n",
            "ERROR:chromadb.telemetry.product.posthog:Failed to send telemetry event ClientCreateCollectionEvent: capture() takes 1 positional argument but 3 were given\n"
          ]
        }
      ],
      "source": [
        "vectorstore = Chroma.from_documents(\n",
        "    document_chunks,\n",
        "    embedding_model,\n",
        "    persist_directory= \"/content/drive/MyDrive/PGP_AIML/NLP/medical_assistant\"\n",
        ")"
      ]
    },
    {
      "cell_type": "code",
      "execution_count": null,
      "metadata": {
        "colab": {
          "base_uri": "https://localhost:8080/"
        },
        "id": "hHBwQgRsi0WN",
        "outputId": "e2ef0eb0-6773-425d-9e54-868bfe8ecf22"
      },
      "outputs": [
        {
          "name": "stderr",
          "output_type": "stream",
          "text": [
            "ERROR:chromadb.telemetry.product.posthog:Failed to send telemetry event ClientStartEvent: capture() takes 1 positional argument but 3 were given\n",
            "ERROR:chromadb.telemetry.product.posthog:Failed to send telemetry event ClientCreateCollectionEvent: capture() takes 1 positional argument but 3 were given\n"
          ]
        }
      ],
      "source": [
        "#Vector database saved in drive\n",
        "vectorstore = Chroma(\n",
        "    embedding_function=embedding_model,\n",
        "    persist_directory=\"/content/drive/MyDrive/PGP_AIML/NLP/medical_assistant\"\n",
        ")"
      ]
    },
    {
      "cell_type": "markdown",
      "metadata": {
        "id": "uEa5sKc41T1z"
      },
      "source": [
        "### Retriever"
      ]
    },
    {
      "cell_type": "code",
      "execution_count": null,
      "metadata": {
        "id": "wBlQUGx3RWUD"
      },
      "outputs": [],
      "source": [
        "retriever = vectorstore.as_retriever(\n",
        "    search_type='similarity',\n",
        "    search_kwargs={'k': 3}\n",
        ")"
      ]
    },
    {
      "cell_type": "markdown",
      "metadata": {
        "id": "vw8qcwq66B0C",
        "nteract": {
          "transient": {
            "deleting": false
          }
        }
      },
      "source": [
        "### System and User Prompt Template"
      ]
    },
    {
      "cell_type": "code",
      "execution_count": null,
      "metadata": {
        "id": "GF_4399TRW5D"
      },
      "outputs": [],
      "source": [
        "qna_system_message = \"\"\"\n",
        "    [INST]<<SYS>>\n",
        "    You are an expert medical advisor. When answering medical queries involving diagnostics, drug information, treatment planning, specialty knowledge, or\n",
        "    critical care protocols, provide accurate, relevant, and evidence-based responses. Tailor your level of detail according to the complexity of the question, aiming for clarity and precision.\n",
        "    Format your responses flexibly using paragraphs, bullet points, or numbered lists as appropriate. If the query lacks context, ask clarifying questions\n",
        "     before answering to ensure your advice is accurate and actionable.\n",
        "    <</SYS>>[/INST]\n",
        "    \"\"\""
      ]
    },
    {
      "cell_type": "code",
      "execution_count": null,
      "metadata": {
        "id": "kHqP8qFJklJu"
      },
      "outputs": [],
      "source": [
        "qna_user_message_template = \"\"\"\n",
        "    Context: {context}\n",
        "    Question: {question}\n",
        "    Answer:\n",
        "    \"\"\""
      ]
    },
    {
      "cell_type": "markdown",
      "metadata": {
        "id": "TkIteX4m6mny"
      },
      "source": [
        "### Response Function"
      ]
    },
    {
      "cell_type": "code",
      "execution_count": null,
      "metadata": {
        "id": "5jFvGnOJRXZx"
      },
      "outputs": [],
      "source": [
        "def generate_rag_response(user_input,k=3,max_tokens=128,temperature=0,top_p=0.95,top_k=50):\n",
        "    global qna_system_message,qna_user_message_template\n",
        "    # Retrieve relevant document chunks\n",
        "    relevant_document_chunks = retriever.get_relevant_documents(query=user_input,k=k)\n",
        "    context_list = [d.page_content for d in relevant_document_chunks]\n",
        "\n",
        "    # Combine document chunks into a single context\n",
        "    context_for_query = \". \".join(context_list)\n",
        "\n",
        "    user_message = qna_user_message_template.replace('{context}', context_for_query)\n",
        "    user_message = user_message.replace('{question}', user_input)\n",
        "\n",
        "    prompt = qna_system_message + '\\n' + user_message\n",
        "\n",
        "    # Generate the response\n",
        "    try:\n",
        "        response = lcpp_llm(\n",
        "                  prompt=prompt,\n",
        "                  max_tokens=max_tokens,\n",
        "                  temperature=temperature,\n",
        "                  top_p=top_p,\n",
        "                  top_k=top_k\n",
        "                  )\n",
        "\n",
        "        # Extract and print the model's response\n",
        "        response = response['choices'][0]['text'].strip()\n",
        "    except Exception as e:\n",
        "        response = f'Sorry, I encountered the following error: \\n {e}'\n",
        "\n",
        "    return response"
      ]
    },
    {
      "cell_type": "markdown",
      "metadata": {
        "id": "ffP1SRYbPQHN"
      },
      "source": [
        "## Question Answering using RAG"
      ]
    },
    {
      "cell_type": "markdown",
      "metadata": {
        "id": "JjajBEj06B0E"
      },
      "source": [
        "### Query 1: What is the protocol for managing sepsis in a critical care unit?"
      ]
    },
    {
      "cell_type": "code",
      "execution_count": null,
      "metadata": {
        "colab": {
          "base_uri": "https://localhost:8080/"
        },
        "id": "Nlo9sMpPRbTP",
        "outputId": "8bee309e-ca29-4bd6-ecd4-a4e1f743b129"
      },
      "outputs": [
        {
          "name": "stderr",
          "output_type": "stream",
          "text": [
            "Llama.generate: prefix-match hit\n"
          ]
        },
        {
          "name": "stdout",
          "output_type": "stream",
          "text": [
            "In managing sepsis in a critical care unit, the following steps should be taken:\n",
            "    \n",
            "    1. Monitor vital signs and fluid status closely. Aim for CVP or PAOP of 8-12 mm Hg or 10 cm H2O respectively.\n",
            "    2. Administer fluids to maintain adequate intravascular volume.\n",
            "    3. Use vasopressors if necessary to maintain mean arterial pressure above 60 mmHg.\n",
            "    4. Provide oxygen support as needed.\n",
            "    5. Initiate broad-spectrum antibiotics based\n"
          ]
        }
      ],
      "source": [
        "user_prompt = \"What is the protocol for managing sepsis in a critical care unit?\"\n",
        "rag_response = generate_rag_response(user_prompt)\n",
        "print(rag_response)"
      ]
    },
    {
      "cell_type": "markdown",
      "metadata": {
        "id": "QDw8zXuq6B0F"
      },
      "source": [
        "### Query 2: What are the common symptoms for appendicitis, and can it be cured via medicine? If not, what surgical procedure should be followed to treat it?"
      ]
    },
    {
      "cell_type": "code",
      "execution_count": null,
      "metadata": {
        "colab": {
          "base_uri": "https://localhost:8080/"
        },
        "id": "PVReF4G8RbzR",
        "outputId": "ddb7480f-0cd6-4494-e44d-f2f69d4557f1"
      },
      "outputs": [
        {
          "name": "stderr",
          "output_type": "stream",
          "text": [
            "Llama.generate: prefix-match hit\n"
          ]
        },
        {
          "name": "stdout",
          "output_type": "stream",
          "text": [
            "Common symptoms for appendicitis include:\n",
            "    - Sudden pain in the lower right abdomen that begins near the navel and then shifts to your McBurney's point (right side, midway between the navel and the hip bone)\n",
            "    - Loss of appetite\n",
            "    - Nausea and vomiting\n",
            "    - Abdominal swelling\n",
            "    - Fever of 100.4°F (38°C) or higher\n",
            "    - A feeling of not being able to pass gas or have a bowel movement\n",
            "    \n",
            "    Appendicitis cannot be\n"
          ]
        }
      ],
      "source": [
        "user_prompt = \"What are the common symptoms for appendicitis, and can it be cured via medicine? If not, what surgical procedure should be followed to treat it?\"\n",
        "rag_response = generate_rag_response(user_prompt)\n",
        "print(rag_response)"
      ]
    },
    {
      "cell_type": "markdown",
      "metadata": {
        "id": "TggYyQPL6B0G"
      },
      "source": [
        "### Query 3: What are the effective treatments or solutions for addressing sudden patchy hair loss, commonly seen as localized bald spots on the scalp, and what could be the possible causes behind it?"
      ]
    },
    {
      "cell_type": "code",
      "execution_count": null,
      "metadata": {
        "colab": {
          "base_uri": "https://localhost:8080/"
        },
        "id": "0aRbadGtRcX0",
        "outputId": "f7664115-5494-4d57-c2cc-f42665b0f6e5"
      },
      "outputs": [
        {
          "name": "stderr",
          "output_type": "stream",
          "text": [
            "Llama.generate: prefix-match hit\n"
          ]
        },
        {
          "name": "stdout",
          "output_type": "stream",
          "text": [
            "Sudden patchy hair loss, also known as alopecia areata, is characterized by round or oval bald patches on the scalp. The exact cause of this condition is unknown but it's believed to be an autoimmune disorder that affects genetically susceptible individuals exposed to unclear environmental triggers.\n",
            "    \n",
            "    Treatment for alopecia areata includes:\n",
            "    1. Topical corticosteroids: These medications can help reduce inflammation and promote hair regrowth. They come in various forms such as creams, ointments, or solutions.\n"
          ]
        }
      ],
      "source": [
        "user_prompt = \"What are the effective treatments or solutions for addressing sudden patchy hair loss, commonly seen as localized bald spots on the scalp, and what could be the possible causes behind it?\"\n",
        "rag_response = generate_rag_response(user_prompt)\n",
        "print(rag_response)"
      ]
    },
    {
      "cell_type": "markdown",
      "metadata": {
        "id": "1TgxdI-_6B0G"
      },
      "source": [
        "### Query 4:  What treatments are recommended for a person who has sustained a physical injury to brain tissue, resulting in temporary or permanent impairment of brain function?"
      ]
    },
    {
      "cell_type": "code",
      "execution_count": null,
      "metadata": {
        "colab": {
          "base_uri": "https://localhost:8080/"
        },
        "id": "0vzRX1TcRc29",
        "outputId": "9924e3c0-0968-46d3-f932-1aa05e902f09"
      },
      "outputs": [
        {
          "name": "stderr",
          "output_type": "stream",
          "text": [
            "Llama.generate: prefix-match hit\n"
          ]
        },
        {
          "name": "stdout",
          "output_type": "stream",
          "text": [
            "1. Traumatic brain injury (TBI) is characterized by physical damage to the brain that temporarily or permanently affects brain function.\n",
            "    2. Initial treatment focuses on maintaining a reliable airway, adequate ventilation, oxygenation, and blood pressure. Surgery may be necessary for patients with more severe injuries to place monitors for intracranial pressure, decompress the brain, or remove hematomas.\n",
            "    3. In the first few days after injury, ensuring adequate brain perfusion and oxygenation and preventing complications of altered consciousness are crucial.\n",
            "    4. Subsequently, many patients require rehabilitation\n"
          ]
        }
      ],
      "source": [
        "user_prompt = \"What treatments are recommended for a person who has sustained a physical injury to brain tissue, resulting in temporary or permanent impairment of brain function?\"\n",
        "rag_response = generate_rag_response(user_prompt)\n",
        "print(rag_response)"
      ]
    },
    {
      "cell_type": "markdown",
      "metadata": {
        "id": "FlHXYCkm6B0H"
      },
      "source": [
        "### Query 5: What are the necessary precautions and treatment steps for a person who has fractured their leg during a hiking trip, and what should be considered for their care and recovery?"
      ]
    },
    {
      "cell_type": "code",
      "execution_count": null,
      "metadata": {
        "colab": {
          "base_uri": "https://localhost:8080/"
        },
        "id": "sarpUibcRdhq",
        "outputId": "e5787f84-667d-4b75-a8c3-8c9f744f1bc2"
      },
      "outputs": [
        {
          "name": "stderr",
          "output_type": "stream",
          "text": [
            "Llama.generate: prefix-match hit\n"
          ]
        },
        {
          "name": "stdout",
          "output_type": "stream",
          "text": [
            "1. Assess the severity of the injury: Check for signs of open wounds, deformity, swelling, or inability to move the affected limb. If there are any signs of severe bleeding, nerve damage, or open fractures, seek immediate medical attention.\n",
            "    2. Immobilize the leg: Use a splint or sling to prevent further injury and help alleviate pain. For more severe injuries, consider using a cast once the swelling has subsided.\n",
            "    3. Administer first aid: Clean the wound if there is one, apply a sterile dressing, and cover it\n"
          ]
        }
      ],
      "source": [
        "user_prompt = \"What are the necessary precautions and treatment steps for a person who has fractured their leg during a hiking trip, and what should be considered for their care and recovery?\"\n",
        "rag_response = generate_rag_response(user_prompt)\n",
        "print(rag_response)"
      ]
    },
    {
      "cell_type": "markdown",
      "metadata": {
        "id": "K7TYrqycEITB"
      },
      "source": [
        "### Fine-tuning"
      ]
    },
    {
      "cell_type": "markdown",
      "metadata": {
        "id": "9wFIwt2L8oNv"
      },
      "source": [
        "###Parameter tuning Version 1"
      ]
    },
    {
      "cell_type": "code",
      "execution_count": null,
      "metadata": {
        "id": "Qll5K1tvlsdF"
      },
      "outputs": [],
      "source": [
        "k1 = 3\n",
        "max_tokens1 = 1000\n",
        "temperature1 = 0\n",
        "top_1p= 0.9\n",
        "top_k1 = 30"
      ]
    },
    {
      "cell_type": "markdown",
      "metadata": {
        "id": "ipWorK2_87c5"
      },
      "source": [
        "###Parameter tuning Version 2"
      ]
    },
    {
      "cell_type": "code",
      "execution_count": null,
      "metadata": {
        "id": "7UYBR-hcReSo"
      },
      "outputs": [],
      "source": [
        "k2 = 5\n",
        "max_tokens2 = 1000\n",
        "temperature2 = 0.2\n",
        "top_2p= 0.9\n",
        "top_k2 = 30"
      ]
    },
    {
      "cell_type": "markdown",
      "metadata": {
        "id": "AQxxmCua9T1T"
      },
      "source": [
        "###Parameter tuning Version 3"
      ]
    },
    {
      "cell_type": "code",
      "execution_count": null,
      "metadata": {
        "id": "9Kv1nGIN9Aq6"
      },
      "outputs": [],
      "source": [
        "k3 = 4\n",
        "max_tokens3 = 1000\n",
        "temperature3 = 0.1\n",
        "top_3p= 0.85\n",
        "top_k3 = 30"
      ]
    },
    {
      "cell_type": "markdown",
      "metadata": {
        "id": "oN0ZL4EY9Ufh"
      },
      "source": [
        "###Parameter tuning Version 4"
      ]
    },
    {
      "cell_type": "code",
      "execution_count": null,
      "metadata": {
        "id": "h2kMVfSM9NgH"
      },
      "outputs": [],
      "source": [
        "k4 = 4\n",
        "max_tokens4 = 1000\n",
        "temperature4 = 0.1\n",
        "top_4p= 0.85\n",
        "top_k4 = 30"
      ]
    },
    {
      "cell_type": "markdown",
      "metadata": {
        "id": "UmfvJRm-9VH5"
      },
      "source": [
        "###Parameter tuning Version 5"
      ]
    },
    {
      "cell_type": "code",
      "execution_count": null,
      "metadata": {
        "id": "dR18vL2X9P85"
      },
      "outputs": [],
      "source": [
        "k5 = 4\n",
        "max_tokens5 = 1200\n",
        "temperature5 = 0.1\n",
        "top_p5= 0.85\n",
        "top_k5 = 30"
      ]
    },
    {
      "cell_type": "markdown",
      "metadata": {
        "id": "kixL64rE9pmx"
      },
      "source": [
        "Queries #1 and #4 will be considered for the evaluation of the parameter tuning versions to test the organization of the response based on the requirements of the query as well as the relevance of information in high risk/importance situations"
      ]
    },
    {
      "cell_type": "markdown",
      "metadata": {
        "id": "nqC6lyPVAJf4"
      },
      "source": [
        "###Query 1, Response Version 1"
      ]
    },
    {
      "cell_type": "code",
      "execution_count": null,
      "metadata": {
        "colab": {
          "base_uri": "https://localhost:8080/"
        },
        "id": "vJnSURMCACi4",
        "outputId": "eb0fe4e8-c1c2-48c9-e085-bec7f25789a7"
      },
      "outputs": [
        {
          "name": "stderr",
          "output_type": "stream",
          "text": [
            "Llama.generate: prefix-match hit\n"
          ]
        },
        {
          "name": "stdout",
          "output_type": "stream",
          "text": [
            "In managing sepsis in a critical care unit, the following steps should be taken:\n",
            "    \n",
            "    1. Monitor vital signs and fluid status closely. Aim for CVP or PAOP of 8-12 mm Hg or 10 cm H2O respectively.\n",
            "    2. Administer fluids to maintain adequate intravascular volume.\n",
            "    3. Use vasopressors if necessary to maintain mean arterial pressure above 60 mmHg.\n",
            "    4. Provide oxygen support as needed.\n",
            "    5. Initiate broad-spectrum antibiotics based on suspected source and organisms.\n",
            "    6. Adjust antibiotic therapy based on culture and sensitivity results.\n",
            "    7.\n"
          ]
        }
      ],
      "source": [
        "user_prompt = \"What is the protocol for managing sepsis in a critical care unit?\"\n",
        "rag_response = generate_rag_response(user_prompt,k=k1,max_tokens=max_tokens1,temperature=temperature1,top_p=top_p1,top_k=top_k1)\n",
        "print(rag_response)"
      ]
    },
    {
      "cell_type": "markdown",
      "metadata": {
        "id": "0VdE0_QuAXON"
      },
      "source": [
        "###Query 1, Response Version 2"
      ]
    },
    {
      "cell_type": "code",
      "execution_count": null,
      "metadata": {
        "colab": {
          "base_uri": "https://localhost:8080/"
        },
        "id": "ksW4pxobARqI",
        "outputId": "cfb3f9f8-6548-4730-ac4b-3835f1e3090f"
      },
      "outputs": [
        {
          "name": "stderr",
          "output_type": "stream",
          "text": [
            "Llama.generate: prefix-match hit\n"
          ]
        },
        {
          "name": "stdout",
          "output_type": "stream",
          "text": [
            "In managing sepsis in a critical care unit, the following steps should be taken:\n",
            "    \n",
            "    1. Monitor vital signs, fluid intake and output, urine output, electrolyte levels, renal function, and blood glucose levels frequently.\n",
            "    2. Provide adequate fluid resuscitation to maintain CVP or PAOP at target levels.\n",
            "    3. Administer oxygen via mask or nasal prongs for respiratory support.\n",
            "    4. Initiate vasopressors (dopamine, norepinephrine) if hypotension persists despite adequate fluid resuscitation.\n",
            "    5. Begin empirical antibiotic therapy as soon as possible based on suspected source and sensitivity\n"
          ]
        }
      ],
      "source": [
        "user_prompt = \"What is the protocol for managing sepsis in a critical care unit?\"\n",
        "rag_response = generate_rag_response(user_prompt,k=k2,max_tokens=max_tokens2,temperature=temperature2,top_p=top_p2,top_k=top_k2)\n",
        "print(rag_response)"
      ]
    },
    {
      "cell_type": "markdown",
      "metadata": {
        "id": "zFzN5UsTAdcC"
      },
      "source": [
        "###Query 1, Response Version 3"
      ]
    },
    {
      "cell_type": "code",
      "execution_count": null,
      "metadata": {
        "colab": {
          "base_uri": "https://localhost:8080/"
        },
        "id": "heY50EkDAhDI",
        "outputId": "f8747949-f0b6-4b82-b8bd-d9e604a77ba7"
      },
      "outputs": [
        {
          "name": "stderr",
          "output_type": "stream",
          "text": [
            "Llama.generate: prefix-match hit\n"
          ]
        },
        {
          "name": "stdout",
          "output_type": "stream",
          "text": [
            "In managing sepsis in a critical care unit, the following steps should be taken:\n",
            "    \n",
            "    1. Monitor vital signs and fluid status closely. Aim for CVP or PAOP of 8-12 mm Hg or 10 cm H2O respectively.\n",
            "    2. Administer fluids to maintain adequate intravascular volume. This may require large volumes (up to 10L over 4-12 hours).\n",
            "    3. Provide oxygen support as needed. Intubation and mechanical ventilation may be required for respiratory failure.\n",
            "    4. Initiate broad-spectrum antibiotics based on suspected source, clinical setting, and previous culture results.\n",
            "         a. Empir\n"
          ]
        }
      ],
      "source": [
        "user_prompt = \"What is the protocol for managing sepsis in a critical care unit?\"\n",
        "rag_response = generate_rag_response(user_prompt,k=k3,max_tokens=max_tokens3,temperature=temperature3,top_p=top_p3,top_k=top_k3)\n",
        "print(rag_response)"
      ]
    },
    {
      "cell_type": "markdown",
      "metadata": {
        "id": "SV4Dwsl1Aebw"
      },
      "source": [
        "###Query 1, Response Version 4"
      ]
    },
    {
      "cell_type": "code",
      "execution_count": null,
      "metadata": {
        "colab": {
          "base_uri": "https://localhost:8080/"
        },
        "id": "V-tdo4ViAjWK",
        "outputId": "559dd88e-86e2-4279-f4f0-4073847ef7e2"
      },
      "outputs": [
        {
          "name": "stderr",
          "output_type": "stream",
          "text": [
            "Llama.generate: prefix-match hit\n"
          ]
        },
        {
          "name": "stdout",
          "output_type": "stream",
          "text": [
            "In managing sepsis in a critical care unit, the following steps should be taken:\n",
            "    \n",
            "    1. Monitor vital signs and fluid status closely. Aim for CVP or PAOP of 8 mm Hg (10 cm H2O) or 12 to 15 mm Hg, respectively.\n",
            "    2. Administer fluids to maintain adequate intravascular volume. This may require large volumes of crystalloid solution.\n",
            "    3. Provide oxygen support as needed. Intubation and mechanical\n"
          ]
        }
      ],
      "source": [
        "user_prompt = \"What is the protocol for managing sepsis in a critical care unit?\"\n",
        "rag_response = generate_rag_response(user_prompt,k=k4,max_tokens=max_tokens4,temperature=temperature4,top_p=top_p4,top_k=top_k4)\n",
        "print(rag_response)"
      ]
    },
    {
      "cell_type": "markdown",
      "metadata": {
        "id": "SCohW3teAfQA"
      },
      "source": [
        "###Query 1, Response Version 5"
      ]
    },
    {
      "cell_type": "code",
      "execution_count": null,
      "metadata": {
        "colab": {
          "base_uri": "https://localhost:8080/"
        },
        "id": "s8Es7YYbAmKG",
        "outputId": "cab37549-ef38-47b4-9fde-46842759cfc6"
      },
      "outputs": [
        {
          "name": "stderr",
          "output_type": "stream",
          "text": [
            "Llama.generate: prefix-match hit\n"
          ]
        },
        {
          "name": "stdout",
          "output_type": "stream",
          "text": [
            "In managing sepsis in a critical care unit, the following steps should be taken:\n",
            "    \n",
            "    1. Monitor vital signs and fluid status closely. Aim to maintain CVP at 8 mm Hg (10 cm H2O) or PAOP at 12 to 15 mm Hg.\n",
            "    2. Administer fluids aggressively to restore intravascular volume.\n",
            "    3. Provide oxygen support as needed.\n",
            "    4. Initiate vasopressors if the patient remains hypot\n"
          ]
        }
      ],
      "source": [
        "user_prompt = \"What is the protocol for managing sepsis in a critical care unit?\"\n",
        "rag_response = generate_rag_response(user_prompt,k=k5,max_tokens=max_tokens5,temperature=temperature5,top_p=top_p5,top_k=top_k5)\n",
        "print(rag_response)"
      ]
    },
    {
      "cell_type": "markdown",
      "metadata": {
        "id": "RVheLO_O-NTZ"
      },
      "source": [
        "###Query 4, Response Version 1"
      ]
    },
    {
      "cell_type": "code",
      "execution_count": null,
      "metadata": {
        "colab": {
          "base_uri": "https://localhost:8080/"
        },
        "id": "eIjvmpyF-QYh",
        "outputId": "1bf49c26-568e-4ada-eb6e-6f9c65c300ad"
      },
      "outputs": [
        {
          "name": "stderr",
          "output_type": "stream",
          "text": [
            "Llama.generate: prefix-match hit\n"
          ]
        },
        {
          "name": "stdout",
          "output_type": "stream",
          "text": [
            "1. Traumatic brain injury (TBI) is characterized by physical damage to the brain that temporarily or permanently affects brain function.\n",
            "    2. Initial treatment focuses on maintaining a reliable airway, adequate ventilation, oxygenation, and blood pressure. Surgery may be necessary for patients with more severe injuries to place monitors for intracranial pressure, decompress the brain, or remove hematomas.\n",
            "    3. In the first few days after injury, ensuring adequate brain perfusion and oxygenation and preventing complications of altered consciousness are crucial.\n",
            "    4. Subsequently, many patients require rehabilitation to address functional impairments and prevent secondary disabilities.\n",
            "    5. Rehabilitation involves a team approach that includes physical, occupational, and speech therapy, skill-building activities, and counseling to meet social and emotional needs.\n",
            "    6. Brain injury support groups may provide assistance to families of brain-injured patients.\n",
            "    7. For patients whose coma lasts more than 24 hours, a prolonged period of rehabilitation, particularly in cognitive and emotional areas, is often required.\n",
            "    8. Rehabilitation services should be planned early.\n"
          ]
        }
      ],
      "source": [
        "user_prompt = \"What treatments are recommended for a person who has sustained a physical injury to brain tissue, resulting in temporary or permanent impairment of brain function?\"\n",
        "rag_response = generate_rag_response(user_prompt,k=k1,max_tokens=max_tokens1,temperature=temperature1,top_p=top_p1,top_k=top_k1)\n",
        "print(rag_response)"
      ]
    },
    {
      "cell_type": "markdown",
      "metadata": {
        "id": "Ja2OR2vF-MqJ"
      },
      "source": [
        "###Query 4, Response Version 2"
      ]
    },
    {
      "cell_type": "code",
      "execution_count": null,
      "metadata": {
        "colab": {
          "base_uri": "https://localhost:8080/"
        },
        "id": "TOxHG5az-6Th",
        "outputId": "206261e3-bd79-49bc-828e-a5faa3d2a887"
      },
      "outputs": [
        {
          "name": "stderr",
          "output_type": "stream",
          "text": [
            "Llama.generate: prefix-match hit\n"
          ]
        },
        {
          "name": "stdout",
          "output_type": "stream",
          "text": [
            "1. Traumatic brain injury (TBI) is characterized by physical damage to the brain that temporarily or permanently affects brain function. Diagnosis is typically suspected clinically and confirmed through imaging, primarily CT scans.\n",
            "    2. Initial treatment focuses on ensuring a reliable airway, maintaining adequate ventilation, oxygenation, and blood pressure. Surgery may be necessary for patients with more severe injuries to place monitors for intracranial pressure or to remove hematomas.\n",
            "    3. During the acute phase following the injury, maintaining adequate brain perfusion and oxygenation is crucial, as well as preventing complications of altered consciousness.\n",
            "    4. Subsequently, many TBI patients require rehabilitation to address functional impairments. Rehabilitation typically involves a team approach that combines physical, occupational, and speech therapy, skill-building activities, and counseling to meet the patient's social and emotional needs.\n",
            "    5. Brain injury support groups may provide assistance to families of brain-injured patients. For those whose coma lasts more than 24 hours (approximately half of whom have major persistent neurologic sequelae), a prolonged period of rehabilitation, particularly in cognitive and emotional areas, is often required.\n",
            "    6. Rehabilitation services should be planned early to optimize recovery.\n",
            "\n",
            "    Additional information:\n",
            "    - TBI can result from open injuries (penetrating wounds) or closed injuries (rapid brain acceleration/deceleration).\n",
            "    - Structural changes from head injury may be gross or microscopic, depending on the mechanism and forces involved.\n",
            "    - Common causes of TBI include motor vehicle crashes, falls, assaults, and sports activities.\n",
            "    - Clinical manifestations vary widely in severity and consequences.\n",
            "    - Concussion is a type of TBI characterized by transient and reversible posttraumatic alteration in mental status.\n",
            "    - Rehabilitation services should be tailored to the patient's specific functional impairments and may include physical, occupational, speech therapy, skill-building activities, and counseling.\n"
          ]
        }
      ],
      "source": [
        "user_prompt = \"What treatments are recommended for a person who has sustained a physical injury to brain tissue, resulting in temporary or permanent impairment of brain function?\"\n",
        "rag_response = generate_rag_response(user_prompt,k=k2,max_tokens=max_tokens2,temperature=temperature2,top_p=top_p2,top_k=top_k2)\n",
        "print(rag_response)"
      ]
    },
    {
      "cell_type": "markdown",
      "metadata": {
        "id": "Sg0eCkLt-IDh"
      },
      "source": [
        "###Query 4, Response Version 3"
      ]
    },
    {
      "cell_type": "code",
      "execution_count": null,
      "metadata": {
        "colab": {
          "base_uri": "https://localhost:8080/"
        },
        "id": "8X6ygysE_DBJ",
        "outputId": "2cf6b056-0c0a-4dc3-b716-7d95521974ea"
      },
      "outputs": [
        {
          "name": "stderr",
          "output_type": "stream",
          "text": [
            "Llama.generate: prefix-match hit\n"
          ]
        },
        {
          "name": "stdout",
          "output_type": "stream",
          "text": [
            "1. Traumatic brain injury (TBI) is characterized by physical damage to the brain that temporarily or permanently affects brain function.\n",
            "    2. Initial treatment focuses on maintaining a reliable airway, adequate ventilation, oxygenation, and blood pressure. Surgery may be necessary for patients with more severe injuries to place monitors for intracranial pressure, decompress the brain, or remove hematomas.\n",
            "    3. In the first few days after injury, ensuring adequate brain perfusion and oxygenation and preventing complications are crucial.\n",
            "    4. Subsequently, many TBI patients require rehabilitation.\n",
            "    5. Rehabilitation involves a team approach that includes physical, occupational, and speech therapy, skill-building activities, and counseling to address social and emotional needs.\n",
            "    6. Brain injury support groups may also provide assistance to families of brain-injured patients.\n",
            "    7. For patients whose coma lasts more than 24 hours, a prolonged period of rehabilitation, particularly in cognitive and emotional areas, is often necessary.\n",
            "    8. Rehabilitation services should be planned early.\n"
          ]
        }
      ],
      "source": [
        "user_prompt = \"What treatments are recommended for a person who has sustained a physical injury to brain tissue, resulting in temporary or permanent impairment of brain function?\"\n",
        "rag_response = generate_rag_response(user_prompt,k=k3,max_tokens=max_tokens3,temperature=temperature3,top_p=top_p3,top_k=top_k3)\n",
        "print(rag_response)"
      ]
    },
    {
      "cell_type": "markdown",
      "metadata": {
        "id": "zMoC1Hiz-KPZ"
      },
      "source": [
        "###Query 4, Response Version 4"
      ]
    },
    {
      "cell_type": "code",
      "execution_count": null,
      "metadata": {
        "colab": {
          "base_uri": "https://localhost:8080/"
        },
        "id": "M-J2L14G-AHJ",
        "outputId": "fd7dc592-0a77-4880-9545-fa906d4be0c7"
      },
      "outputs": [
        {
          "name": "stderr",
          "output_type": "stream",
          "text": [
            "Llama.generate: prefix-match hit\n"
          ]
        },
        {
          "name": "stdout",
          "output_type": "stream",
          "text": [
            "1. Traumatic Brain Injury (TBI) treatment includes ensuring a reliable airway and maintaining adequate ventilation, oxygenation, and blood pressure during the acute phase.\n",
            "    2. Surgery may be needed to place monitors to track and treat intracranial pressure, decompress the brain if intracranial pressure is increased, or remove intracranial hematomas.\n",
            "    3. In the first few days after the injury, maintaining adequate brain perfusion and oxygenation and preventing complications of altered sensorium are important.\n",
            "    4. Subsequently, many patients require rehabilitation to regain lost functions and prevent secondary disabilities.\n",
            "    5. Rehabilitation includes measures to prevent contractures, pressure ulcers, pneumonia, and other complications.\n",
            "    6. The type and extent of rehabilitation therapy depend on the patient's abnormalities, which vary depending on the level and extent (partial or complete) of the injury.\n",
            "    7. Complete transsection causes flaccid paralysis; partial transsection causes spastic paralysis of muscles innervated by the affected segment.\n",
            "    8. A patient's functional capacity depends on the level of injury and the development of complications.\n",
            "    9. Rehabilitation specialists should evaluate patients to establish baseline findings, prioritize treatment, and provide family education.\n",
            "    10. Patients with severe cognitive dysfunction require extensive cognitive therapy, which is often begun immediately after injury and continued for months or years.\n",
            "    11. Family support and brain injury support groups can also be beneficial during the rehabilitation process.\n"
          ]
        }
      ],
      "source": [
        "user_prompt = \"What treatments are recommended for a person who has sustained a physical injury to brain tissue, resulting in temporary or permanent impairment of brain function?\"\n",
        "rag_response = generate_rag_response(user_prompt,k=k4,max_tokens=max_tokens4,temperature=temperature4,top_p=top_p4,top_k=top_k4)\n",
        "print(rag_response)"
      ]
    },
    {
      "cell_type": "markdown",
      "metadata": {
        "id": "aUrerwDl-Ou5"
      },
      "source": [
        "###Query 4, Response Version 5"
      ]
    },
    {
      "cell_type": "code",
      "execution_count": null,
      "metadata": {
        "colab": {
          "base_uri": "https://localhost:8080/"
        },
        "id": "2e74jl4a_Hmh",
        "outputId": "3d82b679-5c2c-474c-d692-032dc52eb9ec"
      },
      "outputs": [
        {
          "name": "stderr",
          "output_type": "stream",
          "text": [
            "Llama.generate: prefix-match hit\n"
          ]
        },
        {
          "name": "stdout",
          "output_type": "stream",
          "text": [
            "1. Traumatic brain injury (TBI) is characterized by physical damage to the brain that temporarily or permanently affects brain function. Diagnosis is suspected clinically and confirmed through imaging, primarily CT scans.\n",
            "    2. Initial treatment focuses on maintaining a reliable airway, adequate ventilation, oxygenation, and blood pressure. Surgery may be necessary for patients with more severe injuries to place monitors for intracranial pressure or remove hematomas.\n",
            "    3. In the first few days after injury, ensuring adequate brain perfusion and oxygenation and preventing complications are crucial.\n",
            "    4. Subsequently, many TBI patients require rehabilitation. Rehabilitation involves a team approach that combines physical, occupational, and speech therapy, skill-building activities, and counseling to meet the patient's social and emotional needs. Brain injury support groups may also provide assistance to families.\n",
            "    5. For patients whose coma lasts more than 24 hours (approximately half of whom have major persistent neurologic sequelae), a prolonged period of rehabilitation, particularly in cognitive and emotional areas, is often required.\n",
            "    6. Rehabilitation services should be planned early.\n",
            "\n",
            "    Additional information:\n",
            "    - Open injuries involve penetration of the scalp, skull, meninges, and underlying brain tissue, typically caused by bullets or sharp objects. Closed injuries occur when the head is struck, causing rapid acceleration and deceleration that can injure tissue at the point of impact, its opposite pole, or diffusely.\n",
            "    - Concussion is a transient and reversible posttraumatic alteration in mental status.\n",
            "    - Structural changes from head injury may be gross or microscopic, depending on the mechanism and forces involved. Clinical manifestations vary widely in severity and consequences.\n",
            "    - Common causes of TBI include motor vehicle crashes, falls (especially in older adults and young children), assaults, and sports activities.\n"
          ]
        }
      ],
      "source": [
        "user_prompt = \"What treatments are recommended for a person who has sustained a physical injury to brain tissue, resulting in temporary or permanent impairment of brain function?\"\n",
        "rag_response = generate_rag_response(user_prompt,k=k5,max_tokens=max_tokens5,temperature=temperature5,top_p=top_p5,top_k=top_k5)\n",
        "print(rag_response)"
      ]
    },
    {
      "cell_type": "markdown",
      "metadata": {
        "id": "b-xoFX7TJdHA"
      },
      "source": [
        "###Observations"
      ]
    },
    {
      "cell_type": "markdown",
      "metadata": {
        "id": "ebpCiR0ZFcmc"
      },
      "source": [
        "Versions 4 and 5 perform well for Query 4; however, the model struggles to generate a complete response for Query 1. To address this, increasing the retriever's k value may be necessary. Consequently, the LLM's context window will also need to be expanded to accommodate the additional retrieved information."
      ]
    },
    {
      "cell_type": "code",
      "execution_count": null,
      "metadata": {
        "colab": {
          "base_uri": "https://localhost:8080/"
        },
        "id": "4icUDLqxHmos",
        "outputId": "a1462eaa-e0f6-4615-b8c7-5056417d5a47"
      },
      "outputs": [
        {
          "name": "stderr",
          "output_type": "stream",
          "text": [
            "AVX = 1 | AVX2 = 1 | AVX512 = 0 | AVX512_VBMI = 0 | AVX512_VNNI = 0 | FMA = 1 | NEON = 0 | ARM_FMA = 0 | F16C = 1 | FP16_VA = 0 | WASM_SIMD = 0 | BLAS = 1 | SSE3 = 1 | SSSE3 = 1 | VSX = 0 | \n"
          ]
        }
      ],
      "source": [
        "llm1 = Llama(\n",
        "    model_path=model_path,\n",
        "    n_threads=2,\n",
        "    n_batch=320,\n",
        "    n_gpu_layers=24,\n",
        "    n_ctx=2880\n",
        ")"
      ]
    },
    {
      "cell_type": "markdown",
      "metadata": {
        "id": "MdrmVw9RZ5PW"
      },
      "source": [
        "Updating the"
      ]
    },
    {
      "cell_type": "code",
      "execution_count": null,
      "metadata": {
        "id": "SbEJ7RGsYhG1"
      },
      "outputs": [],
      "source": [
        "def generate_rag_response1(user_input,k=3,max_tokens=128,temperature=0,top_p=0.95,top_k=50):\n",
        "    global qna_system_message,qna_user_message_template\n",
        "    # Retrieve relevant document chunks\n",
        "    relevant_document_chunks = retriever.get_relevant_documents(query=user_input,k=k)\n",
        "    context_list = [d.page_content for d in relevant_document_chunks]\n",
        "\n",
        "    # Combine document chunks into a single context\n",
        "    context_for_query = \". \".join(context_list)\n",
        "\n",
        "    user_message = qna_user_message_template.replace('{context}', context_for_query)\n",
        "    user_message = user_message.replace('{question}', user_input)\n",
        "\n",
        "    prompt = qna_system_message + '\\n' + user_message\n",
        "\n",
        "    # Generate the response\n",
        "    try:\n",
        "        response = llm1(\n",
        "                  prompt=prompt,\n",
        "                  max_tokens=max_tokens,\n",
        "                  temperature=temperature,\n",
        "                  top_p=top_p,\n",
        "                  top_k=top_k\n",
        "                  )\n",
        "\n",
        "        # Extract and print the model's response\n",
        "        response = response['choices'][0]['text'].strip()\n",
        "    except Exception as e:\n",
        "        response = f'Sorry, I encountered the following error: \\n {e}'\n",
        "\n",
        "    return response"
      ]
    },
    {
      "cell_type": "code",
      "execution_count": null,
      "metadata": {
        "id": "MqqW755yabxk"
      },
      "outputs": [],
      "source": [
        "k=4\n",
        "max_tokens = 960\n",
        "temperature = 0.1\n",
        "top_p = 0.85\n",
        "top_k = 30"
      ]
    },
    {
      "cell_type": "markdown",
      "metadata": {
        "id": "eappIK8wxc_U"
      },
      "source": [
        "### Query 1: What is the protocol for managing sepsis in a critical care unit?"
      ]
    },
    {
      "cell_type": "code",
      "execution_count": null,
      "metadata": {
        "colab": {
          "base_uri": "https://localhost:8080/"
        },
        "id": "6DnTXwY7xdaM",
        "outputId": "742dd41f-a7af-4b39-fc0d-a2368e00de7b"
      },
      "outputs": [
        {
          "name": "stderr",
          "output_type": "stream",
          "text": [
            "Llama.generate: prefix-match hit\n"
          ]
        },
        {
          "name": "stdout",
          "output_type": "stream",
          "text": [
            "In managing sepsis in a critical care unit, the following steps should be taken:\n",
            "    \n",
            "    1. Fluid resuscitation: Administer 0.9% saline until central venous pressure (CVP) reaches 8 mm Hg or pulmonary artery occlusion pressure (PAOP) reaches 12 to 15 mm Hg. Oliguria with hypotension is not a contraindication for vigorous fluid resuscitation.\n",
            "    2. Vasopressors: If the patient remains hypotensive after CVP or PAOP has been raised to target levels, dopamine may be given to increase mean arterial pressure (MAP) to at least 60 mm Hg. However, higher doses of dopamine and norepinephrine pose risks of organ hypoperfusion and acidosis.\n",
            "    3. Oxygenation: Provide oxygen via mask or nasal prongs. Intubation and mechanical ventilation may be necessary for respiratory failure.\n",
            "    4. Antibiotics: Administer broad-spectrum antibiotics based on suspected source, clinical setting, and previous culture results. Empiric therapy should be started immediately after suspecting sepsis.\n",
            "    5. Source control: Drain abscesses and excise necrotic tissues to eliminate septic foci.\n",
            "    6. Normalization of blood glucose: Maintain glucose between 80 to 110 mg/dL (4.4 to 6.1 mmol/L) using a continuous IV insulin infusion.\n",
            "    7. Supportive care: Provide adequate nutrition, prevent infection, stress ulcers and gastritis, and pulmonary embolism.\n",
            "    8. Monitoring: Continuously monitor vital signs, fluid intake and output, electrolytes, renal function, and oxygenation status.\n",
            "    9. Prevention of suffering and maintaining dignity for dying patients.\n"
          ]
        }
      ],
      "source": [
        "user_prompt = \"What is the protocol for managing sepsis in a critical care unit?\"\n",
        "rag_response1 = generate_rag_response1(user_prompt,k=k,max_tokens=max_tokens,temperature=temperature,top_p=top_p,top_k=top_k)\n",
        "print(rag_response1)"
      ]
    },
    {
      "cell_type": "markdown",
      "metadata": {
        "id": "IC470QWwxRzU"
      },
      "source": [
        "###Query 4: What treatments are recommended for a person who has sustained a physical injury to brain tissue, resulting in temporary or permanent impairment of brain function?"
      ]
    },
    {
      "cell_type": "code",
      "execution_count": null,
      "metadata": {
        "colab": {
          "base_uri": "https://localhost:8080/"
        },
        "id": "seGeyEAvaRcF",
        "outputId": "c18119a5-fce9-4ab1-9643-692740652597"
      },
      "outputs": [
        {
          "name": "stderr",
          "output_type": "stream",
          "text": [
            "ERROR:chromadb.telemetry.product.posthog:Failed to send telemetry event CollectionQueryEvent: capture() takes 1 positional argument but 3 were given\n"
          ]
        },
        {
          "name": "stdout",
          "output_type": "stream",
          "text": [
            "1. Traumatic brain injury (TBI) is characterized by physical damage to the brain that temporarily or permanently affects its function. Diagnosis is typically suspected clinically and confirmed through imaging, primarily CT scans.\n",
            "    2. Initial treatment focuses on maintaining a reliable airway, adequate ventilation, oxygenation, and blood pressure. Surgery may be necessary in more severe cases to place intracranial pressure monitors, decompress the brain, or remove hematomas.\n",
            "    3. In the first few days following the injury, it is crucial to maintain adequate brain perfusion and oxygenation while preventing complications of altered consciousness.\n",
            "    4. Subsequently, many patients require rehabilitation to address functional deficits and prevent secondary disabilities such as pressure ulcers, joint contractures, and pneumonia.\n",
            "    5. Rehabilitation typically involves a team approach that combines physical, occupational, and speech therapy, skill-building activities, and counseling to meet the patient's social and emotional needs.\n",
            "    6. For patients whose coma lasts more than 24 hours (approximately half of whom have major persistent neurologic sequelae), a prolonged period of rehabilitation may be required, particularly in cognitive and emotional areas.\n",
            "    7. Rehabilitation services should be planned early to optimize recovery.\n"
          ]
        }
      ],
      "source": [
        "user_prompt = \"What treatments are recommended for a person who has sustained a physical injury to brain tissue, resulting in temporary or permanent impairment of brain function?\"\n",
        "rag_response1 = generate_rag_response1(user_prompt,k=k,max_tokens=max_tokens,temperature=temperature,top_p=top_p,top_k=top_k)\n",
        "print(rag_response1)"
      ]
    },
    {
      "cell_type": "markdown",
      "metadata": {
        "id": "yyQrTipNfuBN"
      },
      "source": [
        "## Output Evaluation"
      ]
    },
    {
      "cell_type": "code",
      "execution_count": null,
      "metadata": {
        "id": "IHbfLAxAGdhW"
      },
      "outputs": [],
      "source": [
        "groundedness_rater_system_message  = \"\"\"\n",
        "\n",
        "You will be presented a ###Question, ###Context used by the AI system and AI generated ###Answer.\n",
        "\n",
        "Your task is to judge the extent to which the ###Answer is derived from ###Context.\n",
        "\n",
        "Rate it 1 - if The ###Answer is not derived from the ###Context at all\n",
        "Rate it 2 - if The ###Answer is derived from the ###Context only to a limited extent\n",
        "Rate it 3 - if The ###Answer is derived from ###Context to a good extent\n",
        "Rate it 4 - if The ###Answer is derived from ###Context mostly\n",
        "Rate it 5 - if The ###Answer is is derived from ###Context completely\n",
        "\n",
        "Please note: Make sure you give a single overall rating in the range of 1 to 5 along with an overall explanation.\n",
        "\n",
        "\"\"\""
      ]
    },
    {
      "cell_type": "code",
      "execution_count": null,
      "metadata": {
        "id": "159OZZa0Rinv"
      },
      "outputs": [],
      "source": [
        "relevance_rater_system_message = \"\"\"\n",
        "\n",
        "You will be presented with a ###Question, the ###Context used by the AI system to generate a response, and the AI-generated ###Answer.\n",
        "\n",
        "Your task is to judge the extent to which the ###Answer is relevant to the ###Question, considering whether it directly addresses the key aspects of the ###Question based on the provided ###Context.\n",
        "\n",
        "Rate the relevance as follows:\n",
        "- Rate 1 – The ###Answer is not relevant to the ###Question at all.\n",
        "- Rate 2 – The ###Answer is only slightly relevant to the **###Question**, missing key aspects.\n",
        "- Rate 3 – The ###Answer is moderately relevant, addressing some parts of the **###Question** but leaving out important details.\n",
        "- Rate 4 – The ###Answer is mostly relevant, covering key aspects but with minor gaps.\n",
        "- Rate 5 – The ###Answer is fully relevant, directly answering all important aspects of the **###Question** with appropriate details from the **###Context**.\n",
        "\n",
        "Note: Provide a single overall rating in the range of 1 to 5, along with a brief explanation of why you assigned that score.\n",
        "\"\"\""
      ]
    },
    {
      "cell_type": "code",
      "execution_count": null,
      "metadata": {
        "id": "RLqiSn-iRwSl"
      },
      "outputs": [],
      "source": [
        "user_message_template = \"\"\"\n",
        "###Question\n",
        "{question}\n",
        "\n",
        "###Context\n",
        "{context}\n",
        "\n",
        "###Answer\n",
        "{answer}\n",
        "\"\"\""
      ]
    },
    {
      "cell_type": "code",
      "execution_count": null,
      "metadata": {
        "id": "XIbZybyuRi2p"
      },
      "outputs": [],
      "source": [
        "def generate_ground_relevance_response(user_input,k=3,max_tokens=128,temperature=0,top_p=0.95,top_k=50):\n",
        "    global qna_system_message,qna_user_message_template\n",
        "    # Retrieve relevant document chunks\n",
        "    relevant_document_chunks = retriever.get_relevant_documents(query=user_input,k=3)\n",
        "    context_list = [d.page_content for d in relevant_document_chunks]\n",
        "    context_for_query = \". \".join(context_list)\n",
        "\n",
        "    # Combine user_prompt and system_message to create the prompt\n",
        "    prompt = f\"\"\"[INST]{qna_system_message}\\n\n",
        "                {'user'}: {qna_user_message_template.format(context=context_for_query, question=user_input)}\n",
        "                [/INST]\"\"\"\n",
        "\n",
        "    response = llm1(\n",
        "            prompt=prompt,\n",
        "            max_tokens=max_tokens,\n",
        "            temperature=temperature,\n",
        "            top_p=top_p,\n",
        "            top_k=top_k,\n",
        "            stop=['INST'],\n",
        "            )\n",
        "\n",
        "    answer =  response[\"choices\"][0][\"text\"]\n",
        "\n",
        "    # Combine user_prompt and system_message to create the prompt\n",
        "    groundedness_prompt = f\"\"\"[INST]{groundedness_rater_system_message}\\n\n",
        "                {'user'}: {user_message_template.format(context=context_for_query, question=user_input, answer=answer)}\n",
        "                [/INST]\"\"\"\n",
        "\n",
        "    # Combine user_prompt and system_message to create the prompt\n",
        "    relevance_prompt = f\"\"\"[INST]{relevance_rater_system_message}\\n\n",
        "                {'user'}: {user_message_template.format(context=context_for_query, question=user_input, answer=answer)}\n",
        "                [/INST]\"\"\"\n",
        "\n",
        "    response_1 = llm1(\n",
        "            prompt=groundedness_prompt,\n",
        "            max_tokens=max_tokens,\n",
        "            temperature=temperature,\n",
        "            top_p=top_p,\n",
        "            top_k=top_k,\n",
        "            stop=['INST'],\n",
        "            )\n",
        "\n",
        "    response_2 = llm1(\n",
        "            prompt=relevance_prompt,\n",
        "            max_tokens=max_tokens,\n",
        "            temperature=temperature,\n",
        "            top_p=top_p,\n",
        "            top_k=top_k,\n",
        "            stop=['INST'],\n",
        "            )\n",
        "\n",
        "    return response_1['choices'][0]['text'],response_2['choices'][0]['text']"
      ]
    },
    {
      "cell_type": "markdown",
      "metadata": {
        "id": "f6qxqyJLYA2x"
      },
      "source": [
        "### Query 1: What is the protocol for managing sepsis in a critical care unit?"
      ]
    },
    {
      "cell_type": "code",
      "execution_count": null,
      "metadata": {
        "colab": {
          "base_uri": "https://localhost:8080/"
        },
        "id": "ANzurSjuYA2x",
        "outputId": "3d924b59-e26e-4b73-cc80-85465bc69e49"
      },
      "outputs": [
        {
          "name": "stderr",
          "output_type": "stream",
          "text": [
            "Llama.generate: prefix-match hit\n",
            "Llama.generate: prefix-match hit\n",
            "Llama.generate: prefix-match hit\n"
          ]
        },
        {
          "name": "stdout",
          "output_type": "stream",
          "text": [
            " Rating: 4 - The answer is derived from the context mostly. The context provides detailed information about the protocol for managing sepsis in a critical care unit, including monitoring requirements, fluid resuscitation, and the use of vasopressors. The answer summarizes these key points accurately. However, it does not include all the details provided in the context, such as the need for oxygen therapy and the importance of nutrition and infection prevention. Therefore, the answer is not a complete derivation from the context but mostly covers the main aspects of the protocol mentioned in the context.\n",
            "\n",
            " Rating: 5\n",
            "\n",
            "Explanation: The context provides a detailed protocol for managing sepsis in a critical care unit, which is directly addressed by the answer. The answer covers key aspects of the question such as monitoring, fluid resuscitation, and the use of vasopressors. It also mentions some specific interventions like maintaining CVP and PAOP levels, and using dopamine if necessary. Therefore, the answer is fully relevant to the question based on the provided context.\n"
          ]
        }
      ],
      "source": [
        "user_prompt=\"What is the protocol for managing sepsis in a critical care unit?\"\n",
        "ground,rel = generate_ground_relevance_response(user_input=user_prompt,k=k,max_tokens=256,temperature=temperature,top_p=top_p,top_k=top_k)\n",
        "\n",
        "print(ground,end=\"\\n\\n\")\n",
        "print(rel)"
      ]
    },
    {
      "cell_type": "markdown",
      "metadata": {
        "id": "7A60Q6x3YA2y"
      },
      "source": [
        "### Query 2: What are the common symptoms for appendicitis, and can it be cured via medicine? If not, what surgical procedure should be followed to treat it?"
      ]
    },
    {
      "cell_type": "code",
      "execution_count": null,
      "metadata": {
        "colab": {
          "base_uri": "https://localhost:8080/"
        },
        "id": "LOZQyoLwYA2y",
        "outputId": "a2aecf60-f372-4c75-bdf1-dc094b714a60"
      },
      "outputs": [
        {
          "name": "stderr",
          "output_type": "stream",
          "text": [
            "Llama.generate: prefix-match hit\n",
            "Llama.generate: prefix-match hit\n",
            "Llama.generate: prefix-match hit\n"
          ]
        },
        {
          "name": "stdout",
          "output_type": "stream",
          "text": [
            " Rating: 5 - The Answer is derived from the Context completely.\n",
            "\n",
            "Explanation: The Question asks about the common symptoms for appendicitis and whether it can be cured via medicine. The Context provides detailed information on the diagnosis, treatment, and symptoms of appendicitis, including abdominal pain, loss of appetite, nausea and vomiting, fever, constipation or diarrhea, and the fact that appendicitis cannot be cured with medicine alone but requires surgical removal. The Answer directly quotes and summarizes this information, making it a clear derivation from the Context.\n",
            "\n",
            " Rating: 5\n",
            "\n",
            "Explanation: The answer directly addresses all important aspects of the question by listing the common symptoms for appendicitis and stating that it cannot be cured with medicine alone, but rather requires surgical removal. The answer also mentions the standard treatment as an appendectomy and the possible use of antibiotics before surgery. The context provided in the text supports these statements, making the answer fully relevant to the question.\n"
          ]
        }
      ],
      "source": [
        "user_prompt=\"What are the common symptoms for appendicitis, and can it be cured via medicine? If not, what surgical procedure should be followed to treat it?\"\n",
        "ground,rel = generate_ground_relevance_response(user_input=user_prompt,k=k,max_tokens=256,temperature=temperature,top_p=top_p,top_k=top_k)\n",
        "\n",
        "print(ground,end=\"\\n\\n\")\n",
        "print(rel)"
      ]
    },
    {
      "cell_type": "markdown",
      "metadata": {
        "id": "ZmYnriTdYA2z"
      },
      "source": [
        "### Query 3: What are the effective treatments or solutions for addressing sudden patchy hair loss, commonly seen as localized bald spots on the scalp, and what could be the possible causes behind it?"
      ]
    },
    {
      "cell_type": "code",
      "execution_count": null,
      "metadata": {
        "colab": {
          "base_uri": "https://localhost:8080/"
        },
        "id": "Qp898M2iYA2z",
        "outputId": "6139c4f7-dcd9-44cd-e953-d8113188549a"
      },
      "outputs": [
        {
          "name": "stderr",
          "output_type": "stream",
          "text": [
            "Llama.generate: prefix-match hit\n",
            "Llama.generate: prefix-match hit\n",
            "Llama.generate: prefix-match hit\n"
          ]
        },
        {
          "name": "stdout",
          "output_type": "stream",
          "text": [
            " Rating: 5\n",
            "\n",
            "Explanation: The question asks about effective treatments and possible causes for sudden patchy hair loss, specifically alopecia areata. The context provided extensively discusses alopecia areata, its causes, and various treatment options including topical corticosteroids, intralesional corticosteroid injections, and topical immunotherapy. Therefore, the answer is completely derived from the context.\n",
            "\n",
            " Rating: 5\n",
            "\n",
            "Explanation: The question asks about effective treatments and possible causes for sudden patchy hair loss, specifically alopecia areata. The context provided extensively covers the topic of alopecia areata, including its causes and various treatment options. The answer directly addresses the key aspects of the question by listing several effective treatments for alopecia areata, which aligns with the information presented in the context.\n"
          ]
        }
      ],
      "source": [
        "user_prompt=\"What are the effective treatments or solutions for addressing sudden patchy hair loss, commonly seen as localized bald spots on the scalp, and what could be the possible causes behind it?\"\n",
        "ground,rel = generate_ground_relevance_response(user_input=user_prompt,k=k,max_tokens=256,temperature=temperature,top_p=top_p,top_k=top_k)\n",
        "\n",
        "print(ground,end=\"\\n\\n\")\n",
        "print(rel)"
      ]
    },
    {
      "cell_type": "markdown",
      "metadata": {
        "id": "jz-lGsVxYA2z"
      },
      "source": [
        "### Query 4: What treatments are recommended for a person who has sustained a physical injury to brain tissue, resulting in temporary or permanent impairment of brain function?"
      ]
    },
    {
      "cell_type": "code",
      "execution_count": null,
      "metadata": {
        "colab": {
          "base_uri": "https://localhost:8080/"
        },
        "id": "gBRTYnFVYA2z",
        "outputId": "bf4d30c0-4030-4e8d-df7f-810460760e07"
      },
      "outputs": [
        {
          "name": "stderr",
          "output_type": "stream",
          "text": [
            "Llama.generate: prefix-match hit\n",
            "Llama.generate: prefix-match hit\n",
            "Llama.generate: prefix-match hit\n"
          ]
        },
        {
          "name": "stdout",
          "output_type": "stream",
          "text": [
            " Rating: 5 - The Answer is derived from the Context completely. The Context provides detailed information about the diagnosis, treatment, and rehabilitation for traumatic brain injury (TBI), including the recommended treatments mentioned in the Answer. These treatments are explicitly stated in the text, such as ensuring a reliable airway, maintaining adequate ventilation, oxygenation, and blood pressure, surgery to place monitors or decompress the brain, rehabilitation using physical, occupational, and speech therapy, skill-building activities, counseling, and family assistance from brain injury support groups. The Answer accurately reflects the information provided in the Context.\n",
            "\n",
            " Rating: 5\n",
            "\n",
            "Explanation: The provided answer directly addresses all important aspects of the question by listing the recommended treatments for a person with a traumatic brain injury (TBI), including initial treatment, acute phase care, and rehabilitation. The context also mentions these treatments in detail, making the answer fully relevant to the question.\n"
          ]
        }
      ],
      "source": [
        "user_prompt=\"What treatments are recommended for a person who has sustained a physical injury to brain tissue, resulting in temporary or permanent impairment of brain function?\"\n",
        "ground,rel = generate_ground_relevance_response(user_input=user_prompt,k=k,max_tokens=256,temperature=temperature,top_p=top_p,top_k=top_k)\n",
        "\n",
        "print(ground,end=\"\\n\\n\")\n",
        "print(rel)"
      ]
    },
    {
      "cell_type": "markdown",
      "metadata": {
        "id": "x2WxSxzDYA2z"
      },
      "source": [
        "### Query 5: What are the necessary precautions and treatment steps for a person who has fractured their leg during a hiking trip, and what should be considered for their care and recovery?"
      ]
    },
    {
      "cell_type": "code",
      "execution_count": null,
      "metadata": {
        "colab": {
          "base_uri": "https://localhost:8080/"
        },
        "id": "mKCq09_YYA20",
        "outputId": "2512d2a0-6d64-4b7b-b335-9dd76ded1e50"
      },
      "outputs": [
        {
          "name": "stderr",
          "output_type": "stream",
          "text": [
            "Llama.generate: prefix-match hit\n",
            "Llama.generate: prefix-match hit\n",
            "Llama.generate: prefix-match hit\n"
          ]
        },
        {
          "name": "stdout",
          "output_type": "stream",
          "text": [
            " Rating: 4 - The Answer is derived from the Context mostly.\n",
            "\n",
            "Explanation: The user's question asks about the precautions and treatment steps for a person with a fractured leg during a hiking trip, as well as considerations for their care and recovery. The context provided in the text discusses various aspects of injuries, including fractures, symptoms, diagnosis, treatment options (such as immobilization, splinting, casting, and antibiotics), complications, and wound care.\n",
            "\n",
            "The Answer covers several points from the Context, such as:\n",
            "1. Immobilizing the affected limb using a splint or sling.\n",
            "2. Seeking medical care promptly.\n",
            "3. Monitoring for signs of infection or complications.\n",
            "4. Administering pain relief.\n",
            "5. Proper wound care.\n",
            "\n",
            "These points are directly related to the information presented in the Context, making it a mostly derived Answer.\n",
            "\n",
            " Rating: 4\n",
            "\n",
            "Explanation: The context provides detailed information about fractures, their symptoms, diagnosis, and treatment options, including immobilization techniques, signs of infection or complications, pain relief, and wound care. The answer directly addresses these key aspects by emphasizing the importance of immobilization, seeking medical care, monitoring for infections or complications, administering pain relief, and maintaining proper wound care. However, it does not cover all minor details from the context, such as specific types of fractures or immobilization techniques mentioned, but still provides a mostly relevant response to the question.\n"
          ]
        }
      ],
      "source": [
        "user_prompt=\"What are the necessary precautions and treatment steps for a person who has fractured their leg during a hiking trip, and what should be considered for their care and recovery?\"\n",
        "ground,rel = generate_ground_relevance_response(user_input=user_prompt,k=k,max_tokens=256,temperature=temperature,top_p=top_p,top_k=top_k)\n",
        "\n",
        "print(ground,end=\"\\n\\n\")\n",
        "print(rel)"
      ]
    },
    {
      "cell_type": "markdown",
      "metadata": {
        "id": "bfYfHprPAgw-"
      },
      "source": [
        "- Overall, the model demonstrates strong performance, with responses that generally adhere closely to the context relevant to each query.\n",
        "- A slight decrease in precision is observed when queries require step-by-step or list-style outputs. To address this, the temperature parameter will be set to 0 to encourage more deterministic and precise responses."
      ]
    },
    {
      "cell_type": "code",
      "execution_count": null,
      "metadata": {
        "colab": {
          "base_uri": "https://localhost:8080/"
        },
        "id": "QZPULakh8S0_",
        "outputId": "c46d4849-ffe5-46b0-d551-b43a5dad050e"
      },
      "outputs": [
        {
          "name": "stderr",
          "output_type": "stream",
          "text": [
            "Llama.generate: prefix-match hit\n",
            "Llama.generate: prefix-match hit\n",
            "Llama.generate: prefix-match hit\n"
          ]
        },
        {
          "name": "stdout",
          "output_type": "stream",
          "text": [
            " Rating: 4 - The Answer is derived from the Context mostly.\n",
            "\n",
            "Explanation: The Question asks for precautions and treatment steps for a person with a fractured leg during a hiking trip, while the Context provides detailed information on various aspects of fracture care, including immobilization techniques (splints, casts), infection prevention, pain management, and complications associated with prolonged immobilization. The Answer directly addresses each point in the Question by referencing the relevant information from the Context.\n",
            "\n",
            " Rating: 5\n",
            "\n",
            "Explanation: The AI-generated answer directly addresses all important aspects of the question, including necessary precautions (immobilization and seeking medical care), treatment steps (pain medication and elevating the limb), and potential complications (infection). The context provided in the text also supports these points.\n"
          ]
        }
      ],
      "source": [
        "user_prompt=\"What are the necessary precautions and treatment steps for a person who has fractured their leg during a hiking trip, and what should be considered for their care and recovery?\"\n",
        "ground,rel = generate_ground_relevance_response(user_input=user_prompt,k=k,max_tokens=256,temperature=0,top_p=top_p,top_k=top_k)\n",
        "\n",
        "print(ground,end=\"\\n\\n\")\n",
        "print(rel)"
      ]
    },
    {
      "cell_type": "markdown",
      "metadata": {
        "id": "Y7QICRU-njdj"
      },
      "source": [
        "## Actionable Insights and Business Recommendations"
      ]
    },
    {
      "cell_type": "markdown",
      "metadata": {
        "id": "Q6Pj44kcKFZG"
      },
      "source": [
        "- While prompt engineering yielded seemingly detailed responses, this verbosity increased the risk of introducing unreliable information due to the generative nature of LLMs. The Retrieval-Augmented Generation (RAG) approach, in contrast, demonstrated consistently high groundness and relevance scores (4–5 out of 5) across all tested queries. From a safety standpoint, the RAG model is the preferred choice, as it delivers accuracy and factual reliability—both critical for the medical domain.\n",
        "- To further improve the relevance and completeness of responses, it is recommended to curate specialized, detail-rich documents for complex or information-heavy sections of the medical diagnosis manual. This will enhance retrieval quality and ensure the model has authoritative material for nuanced medical topics.\n",
        "- While the model performs well on current test queries, coverage could be further enhanced by incorporating a broader range of medical references (e.g., drug formularies, treatment protocols from multiple health organizations, and peer-reviewed studies). This would make the model more robust in handling edge cases and specialized questions.\n",
        "- Although RAG outperformed prompt engineering overall, a hybrid approach could be explored for non-critical, patient-friendly explanations where richer contextualization and softer language may be beneficial. In these cases, prompt tuning on top of RAG output might increase user satisfaction without compromising accuracy.\n",
        "- A slight reduction in precision may occur when queries request step-by-step explanations or list-style outputs. While the model still provides relevant responses, performance improves when these queries are submitted individually without additional secondary questions.\n",
        "- The LLM used in this evaluation has been adapted for lower computing resource requirements. For scenarios where handling larger volumes of information, achieving higher accuracy, or producing richer and more detailed responses is a priority, a larger version of the model is recommended. The runtime and responsiveness will vary depending on the hardware used to submit queries and process responses."
      ]
    }
  ],
  "metadata": {
    "kernel_info": {
      "name": "python310-sdkv2"
    },
    "kernelspec": {
      "display_name": "Python 3",
      "name": "python3"
    },
    "language_info": {
      "name": "python"
    },
    "microsoft": {
      "host": {
        "AzureML": {
          "notebookHasBeenCompleted": true
        }
      },
      "ms_spell_check": {
        "ms_spell_check_language": "en"
      }
    },
    "nteract": {
      "version": "nteract-front-end@1.0.0"
    }
  },
  "nbformat": 4,
  "nbformat_minor": 0
}